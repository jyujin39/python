{
 "cells": [
  {
   "cell_type": "markdown",
   "metadata": {},
   "source": [
    "#### Name"
   ]
  },
  {
   "cell_type": "markdown",
   "metadata": {},
   "source": [
    "- 이름이 있으면 1, 없으면 0\n",
    "- `Popular Name` 칼럼 추가\n",
    "    - 인기있는 개/고양이 이름 크롤링\n",
    "    - 그 이름들에 해당하면 1, 아니면 0"
   ]
  },
  {
   "cell_type": "markdown",
   "metadata": {},
   "source": [
    "#### Animal_Type"
   ]
  },
  {
   "cell_type": "markdown",
   "metadata": {},
   "source": [
    "- 'Dog'는 0, 'Cat'은 1 로 변환"
   ]
  },
  {
   "cell_type": "markdown",
   "metadata": {},
   "source": [
    "#### Breed"
   ]
  },
  {
   "cell_type": "markdown",
   "metadata": {},
   "source": [
    "- 순종(pure), 2개종 mix(two_hybrid), 여러 종 mix(multi_hybrid)로 구분\n",
    "    - 'Cavalier Span': pure\n",
    "    - 'Beagle/Laborador Retriever' : two_hybrid\n",
    "    - 'Domestic Shorhair Mix': multi_hybrid\n",
    "\n",
    "- `Populr Breed` 칼럼 생성\n",
    "    - 인기있는 dog, cat breed 크롤링\n",
    "    - 인기있는 종에 해당하면 1, 아니면 0"
   ]
  },
  {
   "cell_type": "markdown",
   "metadata": {},
   "source": [
    "#### AgeuponIntake"
   ]
  },
  {
   "cell_type": "markdown",
   "metadata": {},
   "source": [
    "- day로 단위를 통일해 연속형 numerical 데이터로 변환"
   ]
  },
  {
   "cell_type": "markdown",
   "metadata": {},
   "source": [
    "#### DateTime"
   ]
  },
  {
   "cell_type": "markdown",
   "metadata": {},
   "source": [
    "- str이었던 날짜를 datetime으로 형변환 후 {연, 월, 일, 요일, 시, 분} 데이터 추출"
   ]
  },
  {
   "cell_type": "markdown",
   "metadata": {},
   "source": [
    "#### SexuponIntake"
   ]
  },
  {
   "cell_type": "markdown",
   "metadata": {},
   "source": [
    "{'Intact Male', 'Intact Female', 'Neutered Male', 'Spayed Female', 'Unknown', NaN}\n",
    "- NaN값은 \"Unknown\"으로 처리\n",
    "- 성별을 구분하는 칼럼과 중성화 여부를 구분하는 칼럼으로 분리\n",
    "- {'Male', 'Female', 'SexUnknown'}, {'Intact', 'Neutered', 'IntactUnknown'}"
   ]
  },
  {
   "cell_type": "markdown",
   "metadata": {},
   "source": [
    "#### Color"
   ]
  },
  {
   "cell_type": "markdown",
   "metadata": {},
   "source": [
    "- 순수 색상이 아닌 패턴을 의미하는 단어들만 추출\n",
    "    - {\"Agouti\", \"Brindle\", \"Calico\", \"Merle\", \"Point\", \"Smoke\", \"Tabby\", \"Tick\", \"Tiger\", \"Torbie\", \"Tortie\", \"Tricolor\"}\n",
    "- 이 패턴들을 갖고 있는 데이터들을 BoW로 벡터라이징"
   ]
  },
  {
   "cell_type": "markdown",
   "metadata": {},
   "source": [
    "#### IntakeCondition"
   ]
  },
  {
   "cell_type": "markdown",
   "metadata": {},
   "source": [
    "{'Aged', 'Feral', 'Injured', 'Normal', 'Nursing', 'Other', 'Pregnant', 'Sick'} \n",
    "- 원핫인코딩"
   ]
  },
  {
   "cell_type": "markdown",
   "metadata": {},
   "source": [
    "#### IntakeType"
   ]
  },
  {
   "cell_type": "markdown",
   "metadata": {},
   "source": [
    "{'Euthanasia Request', 'Owner Surrender', 'Public Assist', 'Stray'} \n",
    "- 원핫인코딩"
   ]
  }
 ],
 "metadata": {
  "kernelspec": {
   "display_name": "Python 3",
   "language": "python",
   "name": "python3"
  },
  "language_info": {
   "codemirror_mode": {
    "name": "ipython",
    "version": 3
   },
   "file_extension": ".py",
   "mimetype": "text/x-python",
   "name": "python",
   "nbconvert_exporter": "python",
   "pygments_lexer": "ipython3",
   "version": "3.7.0"
  }
 },
 "nbformat": 4,
 "nbformat_minor": 2
}
