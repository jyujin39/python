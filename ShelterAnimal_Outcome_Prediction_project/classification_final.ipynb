{
 "cells": [
  {
   "cell_type": "markdown",
   "metadata": {},
   "source": [
    "# Shelter Animal Outcomes Classification"
   ]
  },
  {
   "cell_type": "markdown",
   "metadata": {},
   "source": [
    "### 팀이름 : 동물 사랑 2조\n",
    "### 팀원 : 박민수, 신민규, 전유진, 홍창휘"
   ]
  },
  {
   "cell_type": "markdown",
   "metadata": {},
   "source": [
    "***"
   ]
  },
  {
   "cell_type": "markdown",
   "metadata": {},
   "source": [
    "# [ 목 차 ]\n",
    "## 1. 개요\n",
    "### 1.1 수행과제 선정\n",
    "### 1.2 문제정의\n",
    "### 1.3 종속변수 설정\n",
    "### 1.4 이슈 및 해결과정\n",
    "### 1.5 최종모델\n",
    "## 2. 문제해결 과정\n",
    "### 2.0 패키지 임포트 및 함수정의\n",
    "### 2.1 솔루션 1\n",
    "### 2.2 솔루션 2\n",
    "### 2.3 솔루션 3\n",
    "### 2.4 솔루션 4\n",
    "### 2.5 솔루션 5\n",
    "## 3. 결론"
   ]
  },
  {
   "cell_type": "markdown",
   "metadata": {},
   "source": [
    "***"
   ]
  },
  {
   "cell_type": "markdown",
   "metadata": {},
   "source": [
    "# 1. 개요"
   ]
  },
  {
   "cell_type": "markdown",
   "metadata": {},
   "source": [
    "## 1.1 수행과제 선정\n",
    "- Contents 주제 : **'Shelter Animal Outcomes'** on kaggle competition\n",
    "   * URL : https://www.kaggle.com/c/shelter-animal-outcomes\n",
    "        \n",
    "- Contents 목적 : 동물보호센터 내 유기동물 데이터로부터 특정 유기동물에 대한 최종 처분결과가 어떻게 되었는지 예측"
   ]
  },
  {
   "cell_type": "markdown",
   "metadata": {},
   "source": [
    "## 1.2 문제 정의\n",
    "- Austin Animal Center 에서 보호하게 되는 동물들 중, 새로운 보금자리를 찾아 주기 위해 센터에서 더욱 신경 써야하는 동물들 선별"
   ]
  },
  {
   "cell_type": "markdown",
   "metadata": {},
   "source": [
    "## 1.3 종속변수 설정"
   ]
  },
  {
   "cell_type": "markdown",
   "metadata": {},
   "source": [
    "- 동물들은 동물 보호 센터에서 5가지 유형(Outcome)으로 처리\n",
    "    - Adoption\n",
    "    - Return_to_owner\n",
    "    - Transfer\n",
    "    - Died\n",
    "    - Euthanasia\n",
    "- 보금자리를 찾아주기 위해 더욱 신경을 써야하는 동물들을 2가지 유형(Outcome)으로 설정\n",
    "    - Died\n",
    "    - Euthanasia"
   ]
  },
  {
   "cell_type": "markdown",
   "metadata": {},
   "source": [
    "## 1.4 이슈 및 해결과정"
   ]
  },
  {
   "cell_type": "markdown",
   "metadata": {},
   "source": [
    "**Issue 1)** 주어진 데이터의 일부가 Outcome 당시 데이터임을 파악  \n",
    "**=>** 주어진 Outcome 데이터 중 Intake 당시에도 알 수 있는 Feature만 선택\n",
    "\n",
    "**Issue 2)** 설명력 있는 변수가 부족    \n",
    "**=>** Intake 당시의 데이터와 Merge\n",
    "\n",
    "**Issue 3)** Test 데이터의 Merge 결과가 부정확  \n",
    "**=>** Merge한 Train 데이터 내에서 Test 데이터를 별도로 분리\n",
    "\n",
    "**Issue 4)** 저조한 Recall  \n",
    "**=>** Imbalancing 처리"
   ]
  },
  {
   "cell_type": "markdown",
   "metadata": {},
   "source": [
    "## 1.5 최종 모델"
   ]
  },
  {
   "cell_type": "markdown",
   "metadata": {},
   "source": [
    "#### Recall Unweighted Mean : 0.775"
   ]
  },
  {
   "cell_type": "markdown",
   "metadata": {},
   "source": [
    "![image](https://user-images.githubusercontent.com/44221498/50810946-85399b80-134f-11e9-9f44-1fe57bc8e7e9.png)\n"
   ]
  },
  {
   "cell_type": "markdown",
   "metadata": {},
   "source": [
    "***"
   ]
  },
  {
   "cell_type": "markdown",
   "metadata": {},
   "source": [
    "# 2. 문제해결 과정"
   ]
  },
  {
   "cell_type": "markdown",
   "metadata": {},
   "source": [
    "## 2.0 패키지 임포트 및  함수정의"
   ]
  },
  {
   "cell_type": "markdown",
   "metadata": {},
   "source": [
    "### 2.0.1 Packages"
   ]
  },
  {
   "cell_type": "code",
   "execution_count": 1,
   "metadata": {},
   "outputs": [
    {
     "name": "stderr",
     "output_type": "stream",
     "text": [
      "/usr/local/lib/python3.7/site-packages/lightgbm/__init__.py:46: UserWarning: Starting from version 2.2.1, the library file in distribution wheels for macOS is built by the Apple Clang (Xcode_8.3.1) compiler.\n",
      "This means that in case of installing LightGBM from PyPI via the ``pip install lightgbm`` command, you don't need to install the gcc compiler anymore.\n",
      "Instead of that, you need to install the OpenMP library, which is required for running LightGBM on the system with the Apple Clang compiler.\n",
      "You can install the OpenMP library by the following command: ``brew install libomp``.\n",
      "  \"You can install the OpenMP library by the following command: ``brew install libomp``.\", UserWarning)\n"
     ]
    }
   ],
   "source": [
    "%matplotlib inline\n",
    "import numpy as np\n",
    "import pandas as pd\n",
    "from sklearn.feature_extraction import DictVectorizer\n",
    "from sklearn.preprocessing import LabelEncoder, LabelBinarizer, OneHotEncoder\n",
    "from sklearn.model_selection import train_test_split\n",
    "from sklearn.ensemble import ExtraTreesClassifier\n",
    "from sklearn.ensemble import RandomForestClassifier\n",
    "from sklearn.metrics import *\n",
    "from sklearn.model_selection import validation_curve, GridSearchCV\n",
    "from imblearn.under_sampling import *\n",
    "from imblearn.over_sampling import *\n",
    "from imblearn.combine import *\n",
    "from sklearn.model_selection import StratifiedKFold\n",
    "from sklearn.model_selection import cross_val_score\n",
    "import lightgbm"
   ]
  },
  {
   "cell_type": "markdown",
   "metadata": {
    "slideshow": {
     "slide_type": "fragment"
    }
   },
   "source": [
    "### 2.0.2 Functions"
   ]
  },
  {
   "cell_type": "code",
   "execution_count": 2,
   "metadata": {},
   "outputs": [],
   "source": [
    "# DataFrame의 컬럼 데이터 타입 변환 함수\n",
    "def trans_type(df, columns, _type):\n",
    "    for column in columns:\n",
    "        df[column] = df[column].astype(_type)\n",
    "\n",
    "# Series 내의 특정 문자열 치환\n",
    "def replace_series_str(series, cond, old, new):\n",
    "    series[series.str.contains(cond)] =\\\n",
    "        series[series.str.contains(cond)].str.replace(old, new) "
   ]
  },
  {
   "cell_type": "markdown",
   "metadata": {},
   "source": [
    "## 2.1 솔루션 1"
   ]
  },
  {
   "cell_type": "markdown",
   "metadata": {},
   "source": [
    "- Kaggle Competition에서 주어진 데이터를 그대로 이용\n",
    "    - 데이터에 대한 설명 부족으로 데이터가 Outcome 당시의 데이터라는 확신이 없었음"
   ]
  },
  {
   "cell_type": "markdown",
   "metadata": {},
   "source": [
    "### 2.1.1 데이터 탐색 및 전처리\n",
    "#### [ Featues ]\n",
    "- **OutcomeType** : 최종 보호&관리 결과, 종속 변수\n",
    "    - 'Euthanasia', 'Return_to_owner', 'Adoption', 'Transfer', 'Died'\n",
    "\n",
    "- **AnimalID** : 유기동물의 고유ID값\n",
    "\n",
    "- **Name** : 유기동물의 이름  \n",
    "    \n",
    "- **DateTime** : Outcome 당시 Timestamp(2013-10-01 ~ 2016-02-21)\n",
    "\n",
    "- **AnimalType** : Dog / Cat\n",
    "\n",
    "- **SexuponOutcome** : Outcome 당시 성별 및 중성화 여부\n",
    "    - 'Neutered Male', 'Intact Male', 'Spayed Female', 'Intact Female', 'Unknown'\n",
    " \n",
    "- **AgeuponOutcome** : Outcome 당시 나이\n",
    "    - ex) '12 years', '2 months', '4 weeks', '1 day'\n",
    "    \n",
    "- **Breed** : 종\n",
    "    - ex) 'Domestic Shorthair Mix', 'Bulldog'\n",
    "\n",
    "- **Color** : 동물의 털 색/패턴\n",
    "    - ex) 'Blue/White', 'Cream Tabby' 등"
   ]
  },
  {
   "cell_type": "markdown",
   "metadata": {},
   "source": [
    "#### [ Feature Engineering ]\n",
    "- **Name** : 이름 존재 유(1)/무(0) 인코딩\n",
    "- **DateTime** : 년, 월, 일, 요일, 시, 분 추출\n",
    "- **AnimalType** : Dog(0) / Cat(1) 인코딩 \n",
    "- **SexuponOutcome**\n",
    "    - 성과 중성화 여부로 분리\n",
    "    - 성은 Female/Male/Unkown 분류 후 원핫인코딩\n",
    "    - 중성화 여부는 중성화 Intact/Neutered/Unkown 분류 후 원핫 인코딩\n",
    "- **AgeuponOutcome** : day를 단위로 Numeric으로 환산\n",
    "    - ex) '2 months' => 2 * 30 = 60\n",
    "- **Breed** : Pure(순종), Two_Hybrid, Multi_Hybrid(잡종) 분류 후 원핫인코딩\n",
    "- **Color** : 패턴(12가지) 추출 후 각 패턴의 존재 유(1)/무(0)를 인코딩"
   ]
  },
  {
   "cell_type": "code",
   "execution_count": 3,
   "metadata": {},
   "outputs": [],
   "source": [
    "# 전처리된 데이터 로드\n",
    "train_preprocessed = pd.read_csv('train_preprocessed.csv')\n",
    "# 데이터 타입 int로 변환\n",
    "trans_type(train_preprocessed, train_preprocessed.columns, 'int')\n",
    "# 독립변수\n",
    "df_train = train_preprocessed.drop(['OutcomeType'], axis=1)\n",
    "# 종속변수\n",
    "df_target = train_preprocessed['OutcomeType']"
   ]
  },
  {
   "cell_type": "markdown",
   "metadata": {},
   "source": [
    "#### [ Train and Test Split ]\n",
    "- Train 70% / Test 30%"
   ]
  },
  {
   "cell_type": "code",
   "execution_count": 4,
   "metadata": {},
   "outputs": [],
   "source": [
    "X_train, X_test, y_train, y_test = train_test_split(df_train.values, df_target.values, \n",
    "                                                    test_size=0.3, random_state=0, stratify=df_target.values)"
   ]
  },
  {
   "cell_type": "markdown",
   "metadata": {},
   "source": [
    "### 2.1.2 Model 구현 \n",
    "#### [ LightGBM ]\n",
    "- 그리드 서치로 하이퍼 파라미터 설정\n",
    "    - `n_estimators` : 800\n",
    "    - `max_depth` : 30\n",
    "    - `learning_rate` : 0.05"
   ]
  },
  {
   "cell_type": "code",
   "execution_count": 5,
   "metadata": {},
   "outputs": [],
   "source": [
    "gbm = lightgbm.LGBMClassifier(n_estimators = 800, max_depth=30, learning_rate = 0.05, random_state=0, n_jobs=3)\n",
    "gbm = gbm.fit(X_train, y_train)"
   ]
  },
  {
   "cell_type": "markdown",
   "metadata": {},
   "source": [
    "#### [ Confusion Matrix ]"
   ]
  },
  {
   "cell_type": "code",
   "execution_count": 6,
   "metadata": {},
   "outputs": [
    {
     "data": {
      "text/plain": [
       "array([[2654,    1,   17,  322,  237],\n",
       "       [   5,    8,   12,    4,   30],\n",
       "       [  71,    1,  121,   92,  181],\n",
       "       [ 522,    0,   31,  693,  190],\n",
       "       [ 448,    0,   46,  217, 2116]])"
      ]
     },
     "execution_count": 6,
     "metadata": {},
     "output_type": "execute_result"
    }
   ],
   "source": [
    "confusion_matrix(y_test, gbm.predict(X_test))"
   ]
  },
  {
   "cell_type": "markdown",
   "metadata": {},
   "source": [
    "#### [ Classification Report ]"
   ]
  },
  {
   "cell_type": "code",
   "execution_count": 7,
   "metadata": {},
   "outputs": [
    {
     "name": "stdout",
     "output_type": "stream",
     "text": [
      "                 precision    recall  f1-score   support\n",
      "\n",
      "       Adoption       0.72      0.82      0.77      3231\n",
      "           Died       0.80      0.14      0.23        59\n",
      "     Euthanasia       0.53      0.26      0.35       466\n",
      "Return_to_owner       0.52      0.48      0.50      1436\n",
      "       Transfer       0.77      0.75      0.76      2827\n",
      "\n",
      "      micro avg       0.70      0.70      0.70      8019\n",
      "      macro avg       0.67      0.49      0.52      8019\n",
      "   weighted avg       0.69      0.70      0.69      8019\n",
      "\n"
     ]
    }
   ],
   "source": [
    "target_names = ['Adoption', 'Died', 'Euthanasia', 'Return_to_owner', 'Transfer']\n",
    "print(classification_report(y_test, gbm.predict(X_test), target_names=target_names))"
   ]
  },
  {
   "cell_type": "markdown",
   "metadata": {},
   "source": [
    "#### [ Feature Importance ]\n",
    "- Importance 순으로 상위 10개 Feature 추출\n",
    "- Intake 당시에도 알수 있는 Feature들은 상대적으로 Importance가 낮음\n",
    "    - `Name`, `AnimalType`"
   ]
  },
  {
   "cell_type": "code",
   "execution_count": 8,
   "metadata": {},
   "outputs": [
    {
     "data": {
      "image/png": "[encoded data removed]",
      "text/plain": [
       "<Figure size 1080x576 with 1 Axes>"
      ]
     },
     "metadata": {
      "image/png": {
       "height": 566,
       "width": 1069
      },
      "needs_background": "light"
     },
     "output_type": "display_data"
    }
   ],
   "source": [
    "feature_imp = pd.DataFrame(list(zip(gbm.feature_importances_, df_train.columns)), columns=['Value','Feature'])\n",
    "\n",
    "plt.figure(figsize=(15, 8))\n",
    "sns.barplot(x=\"Value\", y=\"Feature\", data=feature_imp.sort_values(by=\"Value\", ascending=False).loc[:10])\n",
    "plt.title('LightGBM Features (avg over folds)')\n",
    "plt.tight_layout()\n",
    "plt.show()"
   ]
  },
  {
   "cell_type": "markdown",
   "metadata": {},
   "source": [
    "## 2.2 솔루션 2"
   ]
  },
  {
   "cell_type": "markdown",
   "metadata": {},
   "source": [
    "- Outcome데이터 내에서 **Intake 당시에도 알수 있는 Feature만 선택**하여 진행"
   ]
  },
  {
   "cell_type": "markdown",
   "metadata": {},
   "source": [
    "### 2.2.1 데이터 탐색 및 전처리\n",
    "#### [ Featues ]\n",
    "- **OutcomeType** : 최종 보호&관리 결과, 종속 변수\n",
    "    - 'Euthanasia', 'Return_to_owner', 'Adoption', 'Transfer', 'Died'\n",
    "\n",
    "- **AnimalID** : 유기동물의 고유ID값\n",
    "\n",
    "- **Name** : 유기동물의 이름은 Intake 당시에도 알수 있음\n",
    "    \n",
    "- **AnimalType** : 유기 동물의 종(Dog/Cat)은 Intake 당시에도 알 수 있음\n",
    "\n",
    "- **SexuponOutcome** : Outcome 당시 성별의 성별은 Intake 당시에도 알 수 있음\n",
    "    - ex) 'Neutered Male' => 'Male'\n",
    "    \n",
    "- **Breed** : 유기 동물의 세부 종은 Intake 당시에도 알 수 있음\n",
    "    - ex) 'Domestic Shorthair Mix', 'Bulldog'\n",
    "\n",
    "- **Color** : 동물의 털 색/패턴은 Intake 당시에도 알 수 있음\n",
    "    - ex) 'Blue/White', 'Cream Tabby' 등"
   ]
  },
  {
   "cell_type": "markdown",
   "metadata": {},
   "source": [
    "#### [ Feature Engineering ]\n",
    "- 선택된 컬럼들에 대하여 '솔루션 1'과 동일함"
   ]
  },
  {
   "cell_type": "code",
   "execution_count": 9,
   "metadata": {},
   "outputs": [],
   "source": [
    "# 전처리된 데이터(Intake 당시와 동일한 Feature만 선택된) 로드\n",
    "train_reduced_prep = pd.read_csv('train_reduced_prep.csv')\n",
    "# 데이터 타입 int로 변환\n",
    "trans_type(train_reduced_prep, train_reduced_prep.columns, 'int')\n",
    "# 독립변수\n",
    "df_train = train_reduced_prep.drop(['OutcomeType'], axis=1)\n",
    "# 종속변수\n",
    "df_target = train_reduced_prep['OutcomeType']"
   ]
  },
  {
   "cell_type": "markdown",
   "metadata": {},
   "source": [
    "#### [ Train and Test Split ]\n",
    "- Train 70% / Test 30%"
   ]
  },
  {
   "cell_type": "code",
   "execution_count": 10,
   "metadata": {},
   "outputs": [],
   "source": [
    "X_train, X_test, y_train, y_test = train_test_split(df_train.values, df_target.values, \n",
    "                                                    test_size=0.3, random_state=0, stratify=df_target.values)"
   ]
  },
  {
   "cell_type": "markdown",
   "metadata": {},
   "source": [
    "### 2.1.2 Model 구현\n",
    "#### [ LightGBM ]\n",
    "- 그리드 서치로 하이퍼 파라미터 설정\n",
    "    - `n_estimators` : 200\n",
    "    - `max_depth` : 5\n",
    "    - `learning_rate` : 0.05"
   ]
  },
  {
   "cell_type": "code",
   "execution_count": 11,
   "metadata": {},
   "outputs": [],
   "source": [
    "gbm = lightgbm.LGBMClassifier(n_estimators = 200, max_depth=5, learning_rate = 0.05, random_state=0, n_jobs=3)\n",
    "gbm = gbm.fit(X_train, y_train)"
   ]
  },
  {
   "cell_type": "markdown",
   "metadata": {},
   "source": [
    "#### [ Confusion Matrix ]"
   ]
  },
  {
   "cell_type": "code",
   "execution_count": 12,
   "metadata": {
    "scrolled": true
   },
   "outputs": [
    {
     "data": {
      "text/plain": [
       "array([[2706,    0,    0,   81,  444],\n",
       "       [  19,    0,    0,    0,   40],\n",
       "       [ 225,    0,    0,   13,  228],\n",
       "       [1267,    0,    0,  126,   43],\n",
       "       [1346,    0,    0,   70, 1411]])"
      ]
     },
     "execution_count": 12,
     "metadata": {},
     "output_type": "execute_result"
    }
   ],
   "source": [
    "confusion_matrix(y_test, gbm.predict(X_test))"
   ]
  },
  {
   "cell_type": "markdown",
   "metadata": {},
   "source": [
    "#### [ Classification Report ]\n",
    "-'Died'와 'Enthanasia'에 대하여 'Precision'과 'Recall'은 0으로 확인"
   ]
  },
  {
   "cell_type": "code",
   "execution_count": 13,
   "metadata": {},
   "outputs": [
    {
     "name": "stdout",
     "output_type": "stream",
     "text": [
      "                 precision    recall  f1-score   support\n",
      "\n",
      "       Adoption       0.49      0.84      0.62      3231\n",
      "           Died       0.00      0.00      0.00        59\n",
      "     Euthanasia       0.00      0.00      0.00       466\n",
      "Return_to_owner       0.43      0.09      0.15      1436\n",
      "       Transfer       0.65      0.50      0.57      2827\n",
      "\n",
      "      micro avg       0.53      0.53      0.53      8019\n",
      "      macro avg       0.31      0.28      0.27      8019\n",
      "   weighted avg       0.50      0.53      0.47      8019\n",
      "\n"
     ]
    },
    {
     "name": "stderr",
     "output_type": "stream",
     "text": [
      "/usr/local/lib/python3.7/site-packages/sklearn/metrics/classification.py:1143: UndefinedMetricWarning: Precision and F-score are ill-defined and being set to 0.0 in labels with no predicted samples.\n",
      "  'precision', 'predicted', average, warn_for)\n",
      "/usr/local/lib/python3.7/site-packages/sklearn/metrics/classification.py:1143: UndefinedMetricWarning: Precision and F-score are ill-defined and being set to 0.0 in labels with no predicted samples.\n",
      "  'precision', 'predicted', average, warn_for)\n",
      "/usr/local/lib/python3.7/site-packages/sklearn/metrics/classification.py:1143: UndefinedMetricWarning: Precision and F-score are ill-defined and being set to 0.0 in labels with no predicted samples.\n",
      "  'precision', 'predicted', average, warn_for)\n"
     ]
    }
   ],
   "source": [
    "target_names = ['Adoption', 'Died', 'Euthanasia', 'Return_to_owner', 'Transfer']\n",
    "print(classification_report(y_test, gbm.predict(X_test), target_names=target_names))"
   ]
  },
  {
   "cell_type": "markdown",
   "metadata": {},
   "source": [
    "#### [ Feature Importance ]\n",
    "- Importance 순으로 상위 10개 Feature 추출\n",
    "- 저조한 성능 원인\n",
    "    - **Intake** 당시에도 알 수 있는 Feature는 **Outcome Feature 보다 Importance가 상대적으로 매우 낮은 것으로 확인**"
   ]
  },
  {
   "cell_type": "code",
   "execution_count": 14,
   "metadata": {
    "scrolled": false
   },
   "outputs": [
    {
     "data": {
      "image/png": "[encoded data removed]",
      "text/plain": [
       "<Figure size 1080x576 with 1 Axes>"
      ]
     },
     "metadata": {
      "image/png": {
       "height": 566,
       "width": 1069
      },
      "needs_background": "light"
     },
     "output_type": "display_data"
    }
   ],
   "source": [
    "feature_imp = pd.DataFrame(list(zip(gbm.feature_importances_, df_train.columns)), columns=['Value','Feature'])\n",
    "\n",
    "plt.figure(figsize=(15, 8))\n",
    "sns.barplot(x=\"Value\", y=\"Feature\", data=feature_imp.sort_values(by=\"Value\", ascending=False).loc[:10])\n",
    "plt.title('LightGBM Features (avg over folds)')\n",
    "plt.tight_layout()\n",
    "plt.show()"
   ]
  },
  {
   "cell_type": "markdown",
   "metadata": {},
   "source": [
    "## 2.3 솔루션 3"
   ]
  },
  {
   "cell_type": "markdown",
   "metadata": {},
   "source": [
    "- Intake 당시의 데이터([Austin Open Data Portal](https://data.austintexas.gov/Health-and-Community-Services/Austin-Animal-Center-Intakes/wter-evkm)) 확보 및 기존의 Train 데이터와 Merge\n",
    "- Intake 데이터\n",
    "    - 2013-10-01부터 현재까지의 데이터\n",
    "    - AnimalID가 여러번 중복 => 한 동물이 센터에 여러번 맡겨지는 경우 발생\n",
    "- 기존 Train 데이터 내 'Outcome Date'를 기준으로 가장 최근의 'Intake Date'가 포함된 데이터를 선택하여 중복문제를 해결\n",
    "- Merge된 데이터는 기존 Train 데이터 대비 663개 감소\n",
    "- Test 데이터는 고유한 AnimalID가 존재하지 않기 때문에 Merge할 경우 데이터의 신뢰성을 보장할 수 없으므로 활용하지 않는 것으로 결정"
   ]
  },
  {
   "cell_type": "markdown",
   "metadata": {},
   "source": [
    "### 2.3.1 데이터로드"
   ]
  },
  {
   "cell_type": "code",
   "execution_count": 15,
   "metadata": {},
   "outputs": [],
   "source": [
    "## 기존 Train 데이터\n",
    "train = pd.read_csv('train.csv')\n",
    "\n",
    "## Intake 데이터 \n",
    "intake = pd.read_csv('Austin_Animal_Center_Intakes.csv')"
   ]
  },
  {
   "cell_type": "code",
   "execution_count": 16,
   "metadata": {},
   "outputs": [
    {
     "data": {
      "text/html": [
       "<div>\n",
       "<style scoped>\n",
       "    .dataframe tbody tr th:only-of-type {\n",
       "        vertical-align: middle;\n",
       "    }\n",
       "\n",
       "    .dataframe tbody tr th {\n",
       "        vertical-align: top;\n",
       "    }\n",
       "\n",
       "    .dataframe thead th {\n",
       "        text-align: right;\n",
       "    }\n",
       "</style>\n",
       "<table border=\"1\" class=\"dataframe\">\n",
       "  <thead>\n",
       "    <tr style=\"text-align: right;\">\n",
       "      <th></th>\n",
       "      <th>Animal ID</th>\n",
       "      <th>Name</th>\n",
       "      <th>DateTime</th>\n",
       "      <th>MonthYear</th>\n",
       "      <th>Found Location</th>\n",
       "      <th>Intake Type</th>\n",
       "      <th>Intake Condition</th>\n",
       "      <th>Animal Type</th>\n",
       "      <th>Sex upon Intake</th>\n",
       "      <th>Age upon Intake</th>\n",
       "      <th>Breed</th>\n",
       "      <th>Color</th>\n",
       "    </tr>\n",
       "  </thead>\n",
       "  <tbody>\n",
       "    <tr>\n",
       "      <th>93830</th>\n",
       "      <td>A786815</td>\n",
       "      <td>NaN</td>\n",
       "      <td>01/02/2019 01:39:00 PM</td>\n",
       "      <td>01/02/2019 01:39:00 PM</td>\n",
       "      <td>Dessau Road And East Applegate Drive in Austin...</td>\n",
       "      <td>Stray</td>\n",
       "      <td>Normal</td>\n",
       "      <td>Dog</td>\n",
       "      <td>Intact Male</td>\n",
       "      <td>3 years</td>\n",
       "      <td>German Shepherd Mix</td>\n",
       "      <td>Tricolor/Brown</td>\n",
       "    </tr>\n",
       "    <tr>\n",
       "      <th>93831</th>\n",
       "      <td>A786598</td>\n",
       "      <td>Ranger</td>\n",
       "      <td>12/28/2018 12:43:00 PM</td>\n",
       "      <td>12/28/2018 12:43:00 PM</td>\n",
       "      <td>7337 Dungarees Way in Del Valle (TX)</td>\n",
       "      <td>Stray</td>\n",
       "      <td>Normal</td>\n",
       "      <td>Dog</td>\n",
       "      <td>Intact Male</td>\n",
       "      <td>1 month</td>\n",
       "      <td>German Shepherd Mix</td>\n",
       "      <td>Black/Brown</td>\n",
       "    </tr>\n",
       "    <tr>\n",
       "      <th>93832</th>\n",
       "      <td>A786631</td>\n",
       "      <td>Coco</td>\n",
       "      <td>12/28/2018 05:30:00 PM</td>\n",
       "      <td>12/28/2018 05:30:00 PM</td>\n",
       "      <td>1604 Wheless Lane in Austin (TX)</td>\n",
       "      <td>Stray</td>\n",
       "      <td>Normal</td>\n",
       "      <td>Dog</td>\n",
       "      <td>Intact Female</td>\n",
       "      <td>2 years</td>\n",
       "      <td>Chihuahua Shorthair Mix</td>\n",
       "      <td>Red</td>\n",
       "    </tr>\n",
       "    <tr>\n",
       "      <th>93833</th>\n",
       "      <td>A786845</td>\n",
       "      <td>Poochie</td>\n",
       "      <td>01/02/2019 06:43:00 PM</td>\n",
       "      <td>01/02/2019 06:43:00 PM</td>\n",
       "      <td>East William Cannon And Bluff Springs Road in ...</td>\n",
       "      <td>Stray</td>\n",
       "      <td>Normal</td>\n",
       "      <td>Dog</td>\n",
       "      <td>Neutered Male</td>\n",
       "      <td>5 years</td>\n",
       "      <td>Bluetick Hound</td>\n",
       "      <td>Tricolor/White</td>\n",
       "    </tr>\n",
       "    <tr>\n",
       "      <th>93834</th>\n",
       "      <td>A786577</td>\n",
       "      <td>NaN</td>\n",
       "      <td>12/27/2018 06:08:00 PM</td>\n",
       "      <td>12/27/2018 06:08:00 PM</td>\n",
       "      <td>Moore Road And Fm 973 in Austin (TX)</td>\n",
       "      <td>Stray</td>\n",
       "      <td>Normal</td>\n",
       "      <td>Dog</td>\n",
       "      <td>Neutered Male</td>\n",
       "      <td>8 years</td>\n",
       "      <td>Rat Terrier Mix</td>\n",
       "      <td>Tricolor/White</td>\n",
       "    </tr>\n",
       "  </tbody>\n",
       "</table>\n",
       "</div>"
      ],
      "text/plain": [
       "      Animal ID     Name                DateTime               MonthYear  \\\n",
       "93830   A786815      NaN  01/02/2019 01:39:00 PM  01/02/2019 01:39:00 PM   \n",
       "93831   A786598   Ranger  12/28/2018 12:43:00 PM  12/28/2018 12:43:00 PM   \n",
       "93832   A786631     Coco  12/28/2018 05:30:00 PM  12/28/2018 05:30:00 PM   \n",
       "93833   A786845  Poochie  01/02/2019 06:43:00 PM  01/02/2019 06:43:00 PM   \n",
       "93834   A786577      NaN  12/27/2018 06:08:00 PM  12/27/2018 06:08:00 PM   \n",
       "\n",
       "                                          Found Location Intake Type  \\\n",
       "93830  Dessau Road And East Applegate Drive in Austin...       Stray   \n",
       "93831               7337 Dungarees Way in Del Valle (TX)       Stray   \n",
       "93832                   1604 Wheless Lane in Austin (TX)       Stray   \n",
       "93833  East William Cannon And Bluff Springs Road in ...       Stray   \n",
       "93834               Moore Road And Fm 973 in Austin (TX)       Stray   \n",
       "\n",
       "      Intake Condition Animal Type Sex upon Intake Age upon Intake  \\\n",
       "93830           Normal         Dog     Intact Male         3 years   \n",
       "93831           Normal         Dog     Intact Male         1 month   \n",
       "93832           Normal         Dog   Intact Female         2 years   \n",
       "93833           Normal         Dog   Neutered Male         5 years   \n",
       "93834           Normal         Dog   Neutered Male         8 years   \n",
       "\n",
       "                         Breed           Color  \n",
       "93830      German Shepherd Mix  Tricolor/Brown  \n",
       "93831      German Shepherd Mix     Black/Brown  \n",
       "93832  Chihuahua Shorthair Mix             Red  \n",
       "93833           Bluetick Hound  Tricolor/White  \n",
       "93834          Rat Terrier Mix  Tricolor/White  "
      ]
     },
     "execution_count": 16,
     "metadata": {},
     "output_type": "execute_result"
    }
   ],
   "source": [
    "intake.tail()"
   ]
  },
  {
   "cell_type": "code",
   "execution_count": 17,
   "metadata": {},
   "outputs": [],
   "source": [
    "# 머지할 train셋의 칼럼명들과 동일한 형식으로 바꿔줌\n",
    "intake = intake.rename(columns={'Animal ID':'AnimalID','Found Location':'FoundLocation','Intake Type':'IntakeType', 'Intake Condition':'IntakeCondition',\n",
    "                                'Sex upon Intake': 'SexUponIntake','Age upon Intake':'AgeUponIntake', 'DateTime': 'Intake_Datetime', \n",
    "                                'Animal Type': 'AnimalType'})"
   ]
  },
  {
   "cell_type": "code",
   "execution_count": 18,
   "metadata": {},
   "outputs": [],
   "source": [
    "# DatetTime과 똑같은 칼럼인 MonthYear 삭제\n",
    "intake = intake.drop(columns='MonthYear')"
   ]
  },
  {
   "cell_type": "code",
   "execution_count": 19,
   "metadata": {},
   "outputs": [],
   "source": [
    "# intake과 train 셋의 DateTime칼럼을 datetime으로 형변환\n",
    "intake.Intake_Datetime = pd.to_datetime(intake.Intake_Datetime)\n",
    "train.DateTime = pd.to_datetime(train.DateTime)"
   ]
  },
  {
   "cell_type": "markdown",
   "metadata": {},
   "source": [
    "### 2.3.2 'AnimalID'를 key로 Train데이터와 Intake 데이터 Merge"
   ]
  },
  {
   "cell_type": "code",
   "execution_count": 20,
   "metadata": {},
   "outputs": [],
   "source": [
    "train_merged = pd.merge(train, intake, on='AnimalID', how='left')"
   ]
  },
  {
   "cell_type": "code",
   "execution_count": 21,
   "metadata": {},
   "outputs": [
    {
     "data": {
      "text/html": [
       "<div>\n",
       "<style scoped>\n",
       "    .dataframe tbody tr th:only-of-type {\n",
       "        vertical-align: middle;\n",
       "    }\n",
       "\n",
       "    .dataframe tbody tr th {\n",
       "        vertical-align: top;\n",
       "    }\n",
       "\n",
       "    .dataframe thead th {\n",
       "        text-align: right;\n",
       "    }\n",
       "</style>\n",
       "<table border=\"1\" class=\"dataframe\">\n",
       "  <thead>\n",
       "    <tr style=\"text-align: right;\">\n",
       "      <th></th>\n",
       "      <th>AnimalID</th>\n",
       "      <th>Name_x</th>\n",
       "      <th>DateTime</th>\n",
       "      <th>OutcomeType</th>\n",
       "      <th>OutcomeSubtype</th>\n",
       "      <th>AnimalType_x</th>\n",
       "      <th>SexuponOutcome</th>\n",
       "      <th>AgeuponOutcome</th>\n",
       "      <th>Breed_x</th>\n",
       "      <th>Color_x</th>\n",
       "      <th>Name_y</th>\n",
       "      <th>Intake_Datetime</th>\n",
       "      <th>FoundLocation</th>\n",
       "      <th>IntakeType</th>\n",
       "      <th>IntakeCondition</th>\n",
       "      <th>AnimalType_y</th>\n",
       "      <th>SexUponIntake</th>\n",
       "      <th>AgeUponIntake</th>\n",
       "      <th>Breed_y</th>\n",
       "      <th>Color_y</th>\n",
       "    </tr>\n",
       "  </thead>\n",
       "  <tbody>\n",
       "    <tr>\n",
       "      <th>30249</th>\n",
       "      <td>A702446</td>\n",
       "      <td>NaN</td>\n",
       "      <td>2015-05-14 11:56:00</td>\n",
       "      <td>Transfer</td>\n",
       "      <td>Partner</td>\n",
       "      <td>Cat</td>\n",
       "      <td>Intact Male</td>\n",
       "      <td>1 month</td>\n",
       "      <td>Domestic Shorthair Mix</td>\n",
       "      <td>Brown Tabby/White</td>\n",
       "      <td>NaN</td>\n",
       "      <td>2015-05-13 18:53:00</td>\n",
       "      <td>1613 E M Franklin Ave in Austin (TX)</td>\n",
       "      <td>Stray</td>\n",
       "      <td>Normal</td>\n",
       "      <td>Cat</td>\n",
       "      <td>Intact Male</td>\n",
       "      <td>1 month</td>\n",
       "      <td>Domestic Shorthair Mix</td>\n",
       "      <td>Brown Tabby/White</td>\n",
       "    </tr>\n",
       "    <tr>\n",
       "      <th>30250</th>\n",
       "      <td>A718934</td>\n",
       "      <td>NaN</td>\n",
       "      <td>2016-01-20 18:59:00</td>\n",
       "      <td>Transfer</td>\n",
       "      <td>SCRP</td>\n",
       "      <td>Cat</td>\n",
       "      <td>Spayed Female</td>\n",
       "      <td>3 months</td>\n",
       "      <td>Domestic Shorthair Mix</td>\n",
       "      <td>Brown Tabby</td>\n",
       "      <td>NaN</td>\n",
       "      <td>2016-01-09 14:34:00</td>\n",
       "      <td>Night Star And Warrior Ln in Del Valle (TX)</td>\n",
       "      <td>Stray</td>\n",
       "      <td>Normal</td>\n",
       "      <td>Cat</td>\n",
       "      <td>Intact Female</td>\n",
       "      <td>3 months</td>\n",
       "      <td>Domestic Shorthair Mix</td>\n",
       "      <td>Brown Tabby</td>\n",
       "    </tr>\n",
       "    <tr>\n",
       "      <th>30251</th>\n",
       "      <td>A698128</td>\n",
       "      <td>Zeus</td>\n",
       "      <td>2015-03-09 13:33:00</td>\n",
       "      <td>Adoption</td>\n",
       "      <td>NaN</td>\n",
       "      <td>Dog</td>\n",
       "      <td>Neutered Male</td>\n",
       "      <td>4 years</td>\n",
       "      <td>Old English Bulldog Mix</td>\n",
       "      <td>White/Tan</td>\n",
       "      <td>Zeus</td>\n",
       "      <td>2015-03-06 11:17:00</td>\n",
       "      <td>Austin (TX)</td>\n",
       "      <td>Owner Surrender</td>\n",
       "      <td>Normal</td>\n",
       "      <td>Dog</td>\n",
       "      <td>Neutered Male</td>\n",
       "      <td>4 years</td>\n",
       "      <td>Old English Bulldog Mix</td>\n",
       "      <td>White/Tan</td>\n",
       "    </tr>\n",
       "    <tr>\n",
       "      <th>30252</th>\n",
       "      <td>A677478</td>\n",
       "      <td>NaN</td>\n",
       "      <td>2014-04-27 12:22:00</td>\n",
       "      <td>Transfer</td>\n",
       "      <td>Partner</td>\n",
       "      <td>Cat</td>\n",
       "      <td>Intact Male</td>\n",
       "      <td>4 weeks</td>\n",
       "      <td>Domestic Shorthair Mix</td>\n",
       "      <td>Black</td>\n",
       "      <td>NaN</td>\n",
       "      <td>2014-04-25 14:40:00</td>\n",
       "      <td>1203 Cometa St in Austin (TX)</td>\n",
       "      <td>Owner Surrender</td>\n",
       "      <td>Sick</td>\n",
       "      <td>Cat</td>\n",
       "      <td>Intact Male</td>\n",
       "      <td>4 weeks</td>\n",
       "      <td>Domestic Shorthair Mix</td>\n",
       "      <td>Black</td>\n",
       "    </tr>\n",
       "    <tr>\n",
       "      <th>30253</th>\n",
       "      <td>A706629</td>\n",
       "      <td>NaN</td>\n",
       "      <td>2015-07-02 09:00:00</td>\n",
       "      <td>Transfer</td>\n",
       "      <td>SCRP</td>\n",
       "      <td>Cat</td>\n",
       "      <td>Intact Male</td>\n",
       "      <td>1 year</td>\n",
       "      <td>Domestic Shorthair Mix</td>\n",
       "      <td>Brown Tabby/White</td>\n",
       "      <td>NaN</td>\n",
       "      <td>2015-07-01 11:00:00</td>\n",
       "      <td>1012 Neans Dr in Austin (TX)</td>\n",
       "      <td>Stray</td>\n",
       "      <td>Normal</td>\n",
       "      <td>Cat</td>\n",
       "      <td>Intact Male</td>\n",
       "      <td>1 year</td>\n",
       "      <td>Domestic Shorthair Mix</td>\n",
       "      <td>Brown Tabby/White</td>\n",
       "    </tr>\n",
       "  </tbody>\n",
       "</table>\n",
       "</div>"
      ],
      "text/plain": [
       "      AnimalID Name_x            DateTime OutcomeType OutcomeSubtype  \\\n",
       "30249  A702446    NaN 2015-05-14 11:56:00    Transfer        Partner   \n",
       "30250  A718934    NaN 2016-01-20 18:59:00    Transfer           SCRP   \n",
       "30251  A698128   Zeus 2015-03-09 13:33:00    Adoption            NaN   \n",
       "30252  A677478    NaN 2014-04-27 12:22:00    Transfer        Partner   \n",
       "30253  A706629    NaN 2015-07-02 09:00:00    Transfer           SCRP   \n",
       "\n",
       "      AnimalType_x SexuponOutcome AgeuponOutcome                  Breed_x  \\\n",
       "30249          Cat    Intact Male        1 month   Domestic Shorthair Mix   \n",
       "30250          Cat  Spayed Female       3 months   Domestic Shorthair Mix   \n",
       "30251          Dog  Neutered Male        4 years  Old English Bulldog Mix   \n",
       "30252          Cat    Intact Male        4 weeks   Domestic Shorthair Mix   \n",
       "30253          Cat    Intact Male         1 year   Domestic Shorthair Mix   \n",
       "\n",
       "                 Color_x Name_y     Intake_Datetime  \\\n",
       "30249  Brown Tabby/White    NaN 2015-05-13 18:53:00   \n",
       "30250        Brown Tabby    NaN 2016-01-09 14:34:00   \n",
       "30251          White/Tan   Zeus 2015-03-06 11:17:00   \n",
       "30252              Black    NaN 2014-04-25 14:40:00   \n",
       "30253  Brown Tabby/White    NaN 2015-07-01 11:00:00   \n",
       "\n",
       "                                     FoundLocation       IntakeType  \\\n",
       "30249         1613 E M Franklin Ave in Austin (TX)            Stray   \n",
       "30250  Night Star And Warrior Ln in Del Valle (TX)            Stray   \n",
       "30251                                  Austin (TX)  Owner Surrender   \n",
       "30252                1203 Cometa St in Austin (TX)  Owner Surrender   \n",
       "30253                 1012 Neans Dr in Austin (TX)            Stray   \n",
       "\n",
       "      IntakeCondition AnimalType_y  SexUponIntake AgeUponIntake  \\\n",
       "30249          Normal          Cat    Intact Male       1 month   \n",
       "30250          Normal          Cat  Intact Female      3 months   \n",
       "30251          Normal          Dog  Neutered Male       4 years   \n",
       "30252            Sick          Cat    Intact Male       4 weeks   \n",
       "30253          Normal          Cat    Intact Male        1 year   \n",
       "\n",
       "                       Breed_y            Color_y  \n",
       "30249   Domestic Shorthair Mix  Brown Tabby/White  \n",
       "30250   Domestic Shorthair Mix        Brown Tabby  \n",
       "30251  Old English Bulldog Mix          White/Tan  \n",
       "30252   Domestic Shorthair Mix              Black  \n",
       "30253   Domestic Shorthair Mix  Brown Tabby/White  "
      ]
     },
     "execution_count": 21,
     "metadata": {},
     "output_type": "execute_result"
    }
   ],
   "source": [
    "train_merged.tail()"
   ]
  },
  {
   "cell_type": "code",
   "execution_count": 22,
   "metadata": {},
   "outputs": [],
   "source": [
    "# 둘 데이터셋에 중복으로 있던 네 개의 칼럼은 train의 칼럼으로 남기고 intake의 칼럼은 삭제\n",
    "train_merged = train_merged.drop(columns=['Name_y','Breed_y','Color_y','AnimalType_y'])\n",
    "\n",
    "# 칼럼명 정리\n",
    "train_merged = train_merged.rename(columns={'Name_x':'Name','Breed_x':'Breed','Color_x':'Color','AnimalType_x':'AnimalType', \n",
    "                                            'DateTime': 'Outcome_Datetime'})"
   ]
  },
  {
   "cell_type": "code",
   "execution_count": 23,
   "metadata": {},
   "outputs": [],
   "source": [
    "# 머지된 데이터셋에서 intake datetime이 outcome datetime보다 늦은 데이터들만 남기기\n",
    "train_merged = train_merged[train_merged.Outcome_Datetime >= train_merged.Intake_Datetime]"
   ]
  },
  {
   "cell_type": "code",
   "execution_count": 24,
   "metadata": {},
   "outputs": [
    {
     "data": {
      "text/plain": [
       "(26729, 28240)"
      ]
     },
     "execution_count": 24,
     "metadata": {},
     "output_type": "execute_result"
    }
   ],
   "source": [
    "len(train), len(train_merged)"
   ]
  },
  {
   "cell_type": "code",
   "execution_count": 25,
   "metadata": {},
   "outputs": [],
   "source": [
    "# AnimalID 한 개당 여러 개의 데이터가 있을 경우 intake datetime이 가장 최근인 데이터 하나만 남기고 나머지는 드랍\n",
    "train_merged = train_merged.sort_values(by='Intake_Datetime', ascending=False).drop_duplicates('AnimalID').reset_index(drop=True)"
   ]
  },
  {
   "cell_type": "code",
   "execution_count": 26,
   "metadata": {},
   "outputs": [
    {
     "data": {
      "text/plain": [
       "26066"
      ]
     },
     "execution_count": 26,
     "metadata": {},
     "output_type": "execute_result"
    }
   ],
   "source": [
    "len(train_merged)"
   ]
  },
  {
   "cell_type": "code",
   "execution_count": 27,
   "metadata": {
    "scrolled": true
   },
   "outputs": [
    {
     "data": {
      "text/html": [
       "<div>\n",
       "<style scoped>\n",
       "    .dataframe tbody tr th:only-of-type {\n",
       "        vertical-align: middle;\n",
       "    }\n",
       "\n",
       "    .dataframe tbody tr th {\n",
       "        vertical-align: top;\n",
       "    }\n",
       "\n",
       "    .dataframe thead th {\n",
       "        text-align: right;\n",
       "    }\n",
       "</style>\n",
       "<table border=\"1\" class=\"dataframe\">\n",
       "  <thead>\n",
       "    <tr style=\"text-align: right;\">\n",
       "      <th></th>\n",
       "      <th>AnimalID</th>\n",
       "      <th>Name</th>\n",
       "      <th>Outcome_Datetime</th>\n",
       "      <th>OutcomeType</th>\n",
       "      <th>OutcomeSubtype</th>\n",
       "      <th>AnimalType</th>\n",
       "      <th>SexuponOutcome</th>\n",
       "      <th>AgeuponOutcome</th>\n",
       "      <th>Breed</th>\n",
       "      <th>Color</th>\n",
       "      <th>Intake_Datetime</th>\n",
       "      <th>FoundLocation</th>\n",
       "      <th>IntakeType</th>\n",
       "      <th>IntakeCondition</th>\n",
       "      <th>SexUponIntake</th>\n",
       "      <th>AgeUponIntake</th>\n",
       "    </tr>\n",
       "  </thead>\n",
       "  <tbody>\n",
       "    <tr>\n",
       "      <th>26061</th>\n",
       "      <td>A664266</td>\n",
       "      <td>NaN</td>\n",
       "      <td>2013-10-05 15:06:00</td>\n",
       "      <td>Transfer</td>\n",
       "      <td>Partner</td>\n",
       "      <td>Dog</td>\n",
       "      <td>Intact Female</td>\n",
       "      <td>1 year</td>\n",
       "      <td>Chihuahua Shorthair Mix</td>\n",
       "      <td>Buff</td>\n",
       "      <td>2013-10-01 11:09:00</td>\n",
       "      <td>Payton And 183 in Austin (TX)</td>\n",
       "      <td>Stray</td>\n",
       "      <td>Normal</td>\n",
       "      <td>Intact Female</td>\n",
       "      <td>1 year</td>\n",
       "    </tr>\n",
       "    <tr>\n",
       "      <th>26062</th>\n",
       "      <td>A664257</td>\n",
       "      <td>Pippin</td>\n",
       "      <td>2013-10-24 13:31:00</td>\n",
       "      <td>Adoption</td>\n",
       "      <td>Foster</td>\n",
       "      <td>Dog</td>\n",
       "      <td>Spayed Female</td>\n",
       "      <td>4 years</td>\n",
       "      <td>Podengo Pequeno Mix</td>\n",
       "      <td>Black</td>\n",
       "      <td>2013-10-01 11:01:00</td>\n",
       "      <td>Burleson in Travis (TX)</td>\n",
       "      <td>Stray</td>\n",
       "      <td>Normal</td>\n",
       "      <td>Intact Female</td>\n",
       "      <td>4 years</td>\n",
       "    </tr>\n",
       "    <tr>\n",
       "      <th>26063</th>\n",
       "      <td>A664238</td>\n",
       "      <td>NaN</td>\n",
       "      <td>2013-10-01 16:47:00</td>\n",
       "      <td>Euthanasia</td>\n",
       "      <td>Medical</td>\n",
       "      <td>Cat</td>\n",
       "      <td>Unknown</td>\n",
       "      <td>4 months</td>\n",
       "      <td>American Shorthair Mix</td>\n",
       "      <td>Black/White</td>\n",
       "      <td>2013-10-01 09:33:00</td>\n",
       "      <td>Outside Jurisdiction</td>\n",
       "      <td>Stray</td>\n",
       "      <td>Normal</td>\n",
       "      <td>Unknown</td>\n",
       "      <td>4 months</td>\n",
       "    </tr>\n",
       "    <tr>\n",
       "      <th>26064</th>\n",
       "      <td>A664235</td>\n",
       "      <td>NaN</td>\n",
       "      <td>2013-10-01 10:39:00</td>\n",
       "      <td>Transfer</td>\n",
       "      <td>Partner</td>\n",
       "      <td>Cat</td>\n",
       "      <td>Unknown</td>\n",
       "      <td>1 week</td>\n",
       "      <td>Domestic Shorthair Mix</td>\n",
       "      <td>Orange/White</td>\n",
       "      <td>2013-10-01 08:33:00</td>\n",
       "      <td>Abia in Austin (TX)</td>\n",
       "      <td>Stray</td>\n",
       "      <td>Normal</td>\n",
       "      <td>Unknown</td>\n",
       "      <td>1 week</td>\n",
       "    </tr>\n",
       "    <tr>\n",
       "      <th>26065</th>\n",
       "      <td>A664237</td>\n",
       "      <td>NaN</td>\n",
       "      <td>2013-10-01 10:44:00</td>\n",
       "      <td>Transfer</td>\n",
       "      <td>Partner</td>\n",
       "      <td>Cat</td>\n",
       "      <td>Unknown</td>\n",
       "      <td>1 week</td>\n",
       "      <td>Domestic Shorthair Mix</td>\n",
       "      <td>Orange/White</td>\n",
       "      <td>2013-10-01 08:33:00</td>\n",
       "      <td>Abia in Austin (TX)</td>\n",
       "      <td>Stray</td>\n",
       "      <td>Normal</td>\n",
       "      <td>Unknown</td>\n",
       "      <td>1 week</td>\n",
       "    </tr>\n",
       "  </tbody>\n",
       "</table>\n",
       "</div>"
      ],
      "text/plain": [
       "      AnimalID    Name    Outcome_Datetime OutcomeType OutcomeSubtype  \\\n",
       "26061  A664266     NaN 2013-10-05 15:06:00    Transfer        Partner   \n",
       "26062  A664257  Pippin 2013-10-24 13:31:00    Adoption         Foster   \n",
       "26063  A664238     NaN 2013-10-01 16:47:00  Euthanasia        Medical   \n",
       "26064  A664235     NaN 2013-10-01 10:39:00    Transfer        Partner   \n",
       "26065  A664237     NaN 2013-10-01 10:44:00    Transfer        Partner   \n",
       "\n",
       "      AnimalType SexuponOutcome AgeuponOutcome                    Breed  \\\n",
       "26061        Dog  Intact Female         1 year  Chihuahua Shorthair Mix   \n",
       "26062        Dog  Spayed Female        4 years      Podengo Pequeno Mix   \n",
       "26063        Cat        Unknown       4 months   American Shorthair Mix   \n",
       "26064        Cat        Unknown         1 week   Domestic Shorthair Mix   \n",
       "26065        Cat        Unknown         1 week   Domestic Shorthair Mix   \n",
       "\n",
       "              Color     Intake_Datetime                  FoundLocation  \\\n",
       "26061          Buff 2013-10-01 11:09:00  Payton And 183 in Austin (TX)   \n",
       "26062         Black 2013-10-01 11:01:00        Burleson in Travis (TX)   \n",
       "26063   Black/White 2013-10-01 09:33:00           Outside Jurisdiction   \n",
       "26064  Orange/White 2013-10-01 08:33:00            Abia in Austin (TX)   \n",
       "26065  Orange/White 2013-10-01 08:33:00            Abia in Austin (TX)   \n",
       "\n",
       "      IntakeType IntakeCondition  SexUponIntake AgeUponIntake  \n",
       "26061      Stray          Normal  Intact Female        1 year  \n",
       "26062      Stray          Normal  Intact Female       4 years  \n",
       "26063      Stray          Normal        Unknown      4 months  \n",
       "26064      Stray          Normal        Unknown        1 week  \n",
       "26065      Stray          Normal        Unknown        1 week  "
      ]
     },
     "execution_count": 27,
     "metadata": {},
     "output_type": "execute_result"
    }
   ],
   "source": [
    "train_merged.tail()"
   ]
  },
  {
   "cell_type": "markdown",
   "metadata": {},
   "source": [
    "### 2.3.3 Merge가 완료된 데이터를 CSV 파일형식으로 변환"
   ]
  },
  {
   "cell_type": "code",
   "execution_count": 28,
   "metadata": {},
   "outputs": [],
   "source": [
    "train_merged.to_csv('train_merged.csv', index=False)"
   ]
  },
  {
   "cell_type": "markdown",
   "metadata": {},
   "source": [
    "## 2.4 솔루션 4\n",
    "- **Merge된 Train 데이터**를 사용하여 진행\n",
    "- Multi Classification을 **Binary Classification**으로 변환\n",
    "    - 'Return_to_owner', 'Adoption', 'Transfer' => **Safe**\n",
    "    - 'Euthanasia', 'Died' => **Danger**\n",
    "- Merge된 **Train 데이터 내에서 Test 데이터를 별도로 분리**\n",
    "- 성능 매트릭스\n",
    "    - **Recall Unweighted Mean**\n",
    "    - Recall은 높고  Danger에 속하는 동물을 최대한 선별가능\n",
    "    - Fall-Out이 낮을수록 실제로는 Safe에 속하는 동물들을 Danger라고 오판단 하는 실수를 다소 방지할 수 있음"
   ]
  },
  {
   "cell_type": "markdown",
   "metadata": {},
   "source": [
    "### 2.4.1 데이터 로드"
   ]
  },
  {
   "cell_type": "code",
   "execution_count": 29,
   "metadata": {},
   "outputs": [
    {
     "name": "stdout",
     "output_type": "stream",
     "text": [
      "(26066, 16)\n"
     ]
    },
    {
     "data": {
      "text/html": [
       "<div>\n",
       "<style scoped>\n",
       "    .dataframe tbody tr th:only-of-type {\n",
       "        vertical-align: middle;\n",
       "    }\n",
       "\n",
       "    .dataframe tbody tr th {\n",
       "        vertical-align: top;\n",
       "    }\n",
       "\n",
       "    .dataframe thead th {\n",
       "        text-align: right;\n",
       "    }\n",
       "</style>\n",
       "<table border=\"1\" class=\"dataframe\">\n",
       "  <thead>\n",
       "    <tr style=\"text-align: right;\">\n",
       "      <th></th>\n",
       "      <th>AnimalID</th>\n",
       "      <th>Name</th>\n",
       "      <th>Outcome_Datetime</th>\n",
       "      <th>OutcomeType</th>\n",
       "      <th>OutcomeSubtype</th>\n",
       "      <th>AnimalType</th>\n",
       "      <th>SexuponOutcome</th>\n",
       "      <th>AgeuponOutcome</th>\n",
       "      <th>Breed</th>\n",
       "      <th>Color</th>\n",
       "      <th>Intake_Datetime</th>\n",
       "      <th>FoundLocation</th>\n",
       "      <th>IntakeType</th>\n",
       "      <th>IntakeCondition</th>\n",
       "      <th>SexUponIntake</th>\n",
       "      <th>AgeUponIntake</th>\n",
       "    </tr>\n",
       "  </thead>\n",
       "  <tbody>\n",
       "    <tr>\n",
       "      <th>26061</th>\n",
       "      <td>A664266</td>\n",
       "      <td>NaN</td>\n",
       "      <td>2013-10-05 15:06:00</td>\n",
       "      <td>Transfer</td>\n",
       "      <td>Partner</td>\n",
       "      <td>Dog</td>\n",
       "      <td>Intact Female</td>\n",
       "      <td>1 year</td>\n",
       "      <td>Chihuahua Shorthair Mix</td>\n",
       "      <td>Buff</td>\n",
       "      <td>2013-10-01 11:09:00</td>\n",
       "      <td>Payton And 183 in Austin (TX)</td>\n",
       "      <td>Stray</td>\n",
       "      <td>Normal</td>\n",
       "      <td>Intact Female</td>\n",
       "      <td>1 year</td>\n",
       "    </tr>\n",
       "    <tr>\n",
       "      <th>26062</th>\n",
       "      <td>A664257</td>\n",
       "      <td>Pippin</td>\n",
       "      <td>2013-10-24 13:31:00</td>\n",
       "      <td>Adoption</td>\n",
       "      <td>Foster</td>\n",
       "      <td>Dog</td>\n",
       "      <td>Spayed Female</td>\n",
       "      <td>4 years</td>\n",
       "      <td>Podengo Pequeno Mix</td>\n",
       "      <td>Black</td>\n",
       "      <td>2013-10-01 11:01:00</td>\n",
       "      <td>Burleson in Travis (TX)</td>\n",
       "      <td>Stray</td>\n",
       "      <td>Normal</td>\n",
       "      <td>Intact Female</td>\n",
       "      <td>4 years</td>\n",
       "    </tr>\n",
       "    <tr>\n",
       "      <th>26063</th>\n",
       "      <td>A664238</td>\n",
       "      <td>NaN</td>\n",
       "      <td>2013-10-01 16:47:00</td>\n",
       "      <td>Euthanasia</td>\n",
       "      <td>Medical</td>\n",
       "      <td>Cat</td>\n",
       "      <td>Unknown</td>\n",
       "      <td>4 months</td>\n",
       "      <td>American Shorthair Mix</td>\n",
       "      <td>Black/White</td>\n",
       "      <td>2013-10-01 09:33:00</td>\n",
       "      <td>Outside Jurisdiction</td>\n",
       "      <td>Stray</td>\n",
       "      <td>Normal</td>\n",
       "      <td>Unknown</td>\n",
       "      <td>4 months</td>\n",
       "    </tr>\n",
       "    <tr>\n",
       "      <th>26064</th>\n",
       "      <td>A664235</td>\n",
       "      <td>NaN</td>\n",
       "      <td>2013-10-01 10:39:00</td>\n",
       "      <td>Transfer</td>\n",
       "      <td>Partner</td>\n",
       "      <td>Cat</td>\n",
       "      <td>Unknown</td>\n",
       "      <td>1 week</td>\n",
       "      <td>Domestic Shorthair Mix</td>\n",
       "      <td>Orange/White</td>\n",
       "      <td>2013-10-01 08:33:00</td>\n",
       "      <td>Abia in Austin (TX)</td>\n",
       "      <td>Stray</td>\n",
       "      <td>Normal</td>\n",
       "      <td>Unknown</td>\n",
       "      <td>1 week</td>\n",
       "    </tr>\n",
       "    <tr>\n",
       "      <th>26065</th>\n",
       "      <td>A664237</td>\n",
       "      <td>NaN</td>\n",
       "      <td>2013-10-01 10:44:00</td>\n",
       "      <td>Transfer</td>\n",
       "      <td>Partner</td>\n",
       "      <td>Cat</td>\n",
       "      <td>Unknown</td>\n",
       "      <td>1 week</td>\n",
       "      <td>Domestic Shorthair Mix</td>\n",
       "      <td>Orange/White</td>\n",
       "      <td>2013-10-01 08:33:00</td>\n",
       "      <td>Abia in Austin (TX)</td>\n",
       "      <td>Stray</td>\n",
       "      <td>Normal</td>\n",
       "      <td>Unknown</td>\n",
       "      <td>1 week</td>\n",
       "    </tr>\n",
       "  </tbody>\n",
       "</table>\n",
       "</div>"
      ],
      "text/plain": [
       "      AnimalID    Name    Outcome_Datetime OutcomeType OutcomeSubtype  \\\n",
       "26061  A664266     NaN 2013-10-05 15:06:00    Transfer        Partner   \n",
       "26062  A664257  Pippin 2013-10-24 13:31:00    Adoption         Foster   \n",
       "26063  A664238     NaN 2013-10-01 16:47:00  Euthanasia        Medical   \n",
       "26064  A664235     NaN 2013-10-01 10:39:00    Transfer        Partner   \n",
       "26065  A664237     NaN 2013-10-01 10:44:00    Transfer        Partner   \n",
       "\n",
       "      AnimalType SexuponOutcome AgeuponOutcome                    Breed  \\\n",
       "26061        Dog  Intact Female         1 year  Chihuahua Shorthair Mix   \n",
       "26062        Dog  Spayed Female        4 years      Podengo Pequeno Mix   \n",
       "26063        Cat        Unknown       4 months   American Shorthair Mix   \n",
       "26064        Cat        Unknown         1 week   Domestic Shorthair Mix   \n",
       "26065        Cat        Unknown         1 week   Domestic Shorthair Mix   \n",
       "\n",
       "              Color     Intake_Datetime                  FoundLocation  \\\n",
       "26061          Buff 2013-10-01 11:09:00  Payton And 183 in Austin (TX)   \n",
       "26062         Black 2013-10-01 11:01:00        Burleson in Travis (TX)   \n",
       "26063   Black/White 2013-10-01 09:33:00           Outside Jurisdiction   \n",
       "26064  Orange/White 2013-10-01 08:33:00            Abia in Austin (TX)   \n",
       "26065  Orange/White 2013-10-01 08:33:00            Abia in Austin (TX)   \n",
       "\n",
       "      IntakeType IntakeCondition  SexUponIntake AgeUponIntake  \n",
       "26061      Stray          Normal  Intact Female        1 year  \n",
       "26062      Stray          Normal  Intact Female       4 years  \n",
       "26063      Stray          Normal        Unknown      4 months  \n",
       "26064      Stray          Normal        Unknown        1 week  \n",
       "26065      Stray          Normal        Unknown        1 week  "
      ]
     },
     "execution_count": 29,
     "metadata": {},
     "output_type": "execute_result"
    }
   ],
   "source": [
    "train_merged = pd.read_csv('train_merged.csv', parse_dates=['Intake_Datetime', 'Outcome_Datetime'])\n",
    "print(train_merged.shape)\n",
    "train_merged.tail()"
   ]
  },
  {
   "cell_type": "code",
   "execution_count": 30,
   "metadata": {},
   "outputs": [
    {
     "name": "stdout",
     "output_type": "stream",
     "text": [
      "(26066, 11)\n"
     ]
    },
    {
     "data": {
      "text/html": [
       "<div>\n",
       "<style scoped>\n",
       "    .dataframe tbody tr th:only-of-type {\n",
       "        vertical-align: middle;\n",
       "    }\n",
       "\n",
       "    .dataframe tbody tr th {\n",
       "        vertical-align: top;\n",
       "    }\n",
       "\n",
       "    .dataframe thead th {\n",
       "        text-align: right;\n",
       "    }\n",
       "</style>\n",
       "<table border=\"1\" class=\"dataframe\">\n",
       "  <thead>\n",
       "    <tr style=\"text-align: right;\">\n",
       "      <th></th>\n",
       "      <th>AnimalID</th>\n",
       "      <th>Name</th>\n",
       "      <th>OutcomeType</th>\n",
       "      <th>AnimalType</th>\n",
       "      <th>Breed</th>\n",
       "      <th>Color</th>\n",
       "      <th>Intake_Datetime</th>\n",
       "      <th>IntakeType</th>\n",
       "      <th>IntakeCondition</th>\n",
       "      <th>SexUponIntake</th>\n",
       "      <th>AgeUponIntake</th>\n",
       "    </tr>\n",
       "  </thead>\n",
       "  <tbody>\n",
       "    <tr>\n",
       "      <th>26061</th>\n",
       "      <td>A664266</td>\n",
       "      <td>NaN</td>\n",
       "      <td>Transfer</td>\n",
       "      <td>Dog</td>\n",
       "      <td>Chihuahua Shorthair Mix</td>\n",
       "      <td>Buff</td>\n",
       "      <td>2013-10-01 11:09:00</td>\n",
       "      <td>Stray</td>\n",
       "      <td>Normal</td>\n",
       "      <td>Intact Female</td>\n",
       "      <td>1 year</td>\n",
       "    </tr>\n",
       "    <tr>\n",
       "      <th>26062</th>\n",
       "      <td>A664257</td>\n",
       "      <td>Pippin</td>\n",
       "      <td>Adoption</td>\n",
       "      <td>Dog</td>\n",
       "      <td>Podengo Pequeno Mix</td>\n",
       "      <td>Black</td>\n",
       "      <td>2013-10-01 11:01:00</td>\n",
       "      <td>Stray</td>\n",
       "      <td>Normal</td>\n",
       "      <td>Intact Female</td>\n",
       "      <td>4 years</td>\n",
       "    </tr>\n",
       "    <tr>\n",
       "      <th>26063</th>\n",
       "      <td>A664238</td>\n",
       "      <td>NaN</td>\n",
       "      <td>Euthanasia</td>\n",
       "      <td>Cat</td>\n",
       "      <td>American Shorthair Mix</td>\n",
       "      <td>Black/White</td>\n",
       "      <td>2013-10-01 09:33:00</td>\n",
       "      <td>Stray</td>\n",
       "      <td>Normal</td>\n",
       "      <td>Unknown</td>\n",
       "      <td>4 months</td>\n",
       "    </tr>\n",
       "    <tr>\n",
       "      <th>26064</th>\n",
       "      <td>A664235</td>\n",
       "      <td>NaN</td>\n",
       "      <td>Transfer</td>\n",
       "      <td>Cat</td>\n",
       "      <td>Domestic Shorthair Mix</td>\n",
       "      <td>Orange/White</td>\n",
       "      <td>2013-10-01 08:33:00</td>\n",
       "      <td>Stray</td>\n",
       "      <td>Normal</td>\n",
       "      <td>Unknown</td>\n",
       "      <td>1 week</td>\n",
       "    </tr>\n",
       "    <tr>\n",
       "      <th>26065</th>\n",
       "      <td>A664237</td>\n",
       "      <td>NaN</td>\n",
       "      <td>Transfer</td>\n",
       "      <td>Cat</td>\n",
       "      <td>Domestic Shorthair Mix</td>\n",
       "      <td>Orange/White</td>\n",
       "      <td>2013-10-01 08:33:00</td>\n",
       "      <td>Stray</td>\n",
       "      <td>Normal</td>\n",
       "      <td>Unknown</td>\n",
       "      <td>1 week</td>\n",
       "    </tr>\n",
       "  </tbody>\n",
       "</table>\n",
       "</div>"
      ],
      "text/plain": [
       "      AnimalID    Name OutcomeType AnimalType                    Breed  \\\n",
       "26061  A664266     NaN    Transfer        Dog  Chihuahua Shorthair Mix   \n",
       "26062  A664257  Pippin    Adoption        Dog      Podengo Pequeno Mix   \n",
       "26063  A664238     NaN  Euthanasia        Cat   American Shorthair Mix   \n",
       "26064  A664235     NaN    Transfer        Cat   Domestic Shorthair Mix   \n",
       "26065  A664237     NaN    Transfer        Cat   Domestic Shorthair Mix   \n",
       "\n",
       "              Color     Intake_Datetime IntakeType IntakeCondition  \\\n",
       "26061          Buff 2013-10-01 11:09:00      Stray          Normal   \n",
       "26062         Black 2013-10-01 11:01:00      Stray          Normal   \n",
       "26063   Black/White 2013-10-01 09:33:00      Stray          Normal   \n",
       "26064  Orange/White 2013-10-01 08:33:00      Stray          Normal   \n",
       "26065  Orange/White 2013-10-01 08:33:00      Stray          Normal   \n",
       "\n",
       "       SexUponIntake AgeUponIntake  \n",
       "26061  Intact Female        1 year  \n",
       "26062  Intact Female       4 years  \n",
       "26063        Unknown      4 months  \n",
       "26064        Unknown        1 week  \n",
       "26065        Unknown        1 week  "
      ]
     },
     "execution_count": 30,
     "metadata": {},
     "output_type": "execute_result"
    }
   ],
   "source": [
    "# Merge 된 Train 데이터 중 종속변수(OutcomeType)와 Intake 당시 Feature만 남기고 드랍\n",
    "train_intake = train_merged.drop(\n",
    "    ['Outcome_Datetime', 'SexuponOutcome', 'AgeuponOutcome', 'OutcomeSubtype', 'FoundLocation'],\n",
    "    axis=1)\n",
    "print(train_intake.shape)\n",
    "train_intake.tail()"
   ]
  },
  {
   "cell_type": "markdown",
   "metadata": {},
   "source": [
    "### 2.4.2 결측값"
   ]
  },
  {
   "cell_type": "markdown",
   "metadata": {},
   "source": [
    "#### 1) 결측값 검사"
   ]
  },
  {
   "cell_type": "code",
   "execution_count": 31,
   "metadata": {},
   "outputs": [
    {
     "data": {
      "text/plain": [
       "AnimalID              0\n",
       "Name               7584\n",
       "OutcomeType           0\n",
       "AnimalType            0\n",
       "Breed                 0\n",
       "Color                 0\n",
       "Intake_Datetime       0\n",
       "IntakeType            0\n",
       "IntakeCondition       0\n",
       "SexUponIntake         1\n",
       "AgeUponIntake         0\n",
       "dtype: int64"
      ]
     },
     "execution_count": 31,
     "metadata": {},
     "output_type": "execute_result"
    }
   ],
   "source": [
    "train_intake.isna().sum()"
   ]
  },
  {
   "cell_type": "markdown",
   "metadata": {},
   "source": [
    "#### 2) 결측값 처리"
   ]
  },
  {
   "cell_type": "markdown",
   "metadata": {},
   "source": [
    "##### SexUponIntake"
   ]
  },
  {
   "cell_type": "code",
   "execution_count": 32,
   "metadata": {},
   "outputs": [],
   "source": [
    "# 결측값 'Unknown'으로 대체\n",
    "train_intake[\"SexUponIntake\"].fillna(\"Unknown\", inplace=True)"
   ]
  },
  {
   "cell_type": "markdown",
   "metadata": {},
   "source": [
    "##### Name\n",
    "이후 전처리 과정에서 이름 없음(0)으로 처리"
   ]
  },
  {
   "cell_type": "markdown",
   "metadata": {},
   "source": [
    "### 2.4.3 Binary Classification으로 변환\n",
    "- Imbalance가 심한 데이터로 모든 OutcomeType을 정확하게 맞추는 것에 한계가 있음\n",
    "- Animal Center에서 실질적으로 필요한 것은 좀 더 신경을 써야하는 동물을 선별해야 한다고 판단됨\n",
    "- 종속변수의 범주를 'Danger'와 'safe' 로 변환\n",
    "    - 'Return_to_owner', 'Adoption', 'Transfer' => **Safe**\n",
    "    - 'Euthanasia', 'Died' => **Danger**"
   ]
  },
  {
   "cell_type": "code",
   "execution_count": 33,
   "metadata": {},
   "outputs": [
    {
     "data": {
      "text/plain": [
       "Adoption           10382\n",
       "Transfer            9216\n",
       "Return_to_owner     4750\n",
       "Euthanasia          1529\n",
       "Died                 189\n",
       "Name: OutcomeType, dtype: int64"
      ]
     },
     "execution_count": 33,
     "metadata": {},
     "output_type": "execute_result"
    }
   ],
   "source": [
    "train_intake['OutcomeType'].value_counts()"
   ]
  },
  {
   "cell_type": "code",
   "execution_count": 34,
   "metadata": {},
   "outputs": [],
   "source": [
    "# Target Value => Danger/Safe로 변환\n",
    "train_intake['OutcomeType'] = \\\n",
    "train_intake['OutcomeType'].apply(lambda x: \"Danger\" if x in [\"Died\", \"Euthanasia\"] else \"Safe\")"
   ]
  },
  {
   "cell_type": "code",
   "execution_count": 35,
   "metadata": {},
   "outputs": [
    {
     "data": {
      "text/plain": [
       "Safe      24348\n",
       "Danger     1718\n",
       "Name: OutcomeType, dtype: int64"
      ]
     },
     "execution_count": 35,
     "metadata": {},
     "output_type": "execute_result"
    }
   ],
   "source": [
    "train_intake['OutcomeType'].value_counts()"
   ]
  },
  {
   "cell_type": "markdown",
   "metadata": {},
   "source": [
    "### 2.4.4 EDA"
   ]
  },
  {
   "cell_type": "code",
   "execution_count": 36,
   "metadata": {},
   "outputs": [],
   "source": [
    "## 데이터 시각화를 위한 데이터 가공\n",
    "\n",
    "train_merged = pd.read_csv('train_merged.csv', parse_dates=['Intake_Datetime', 'Outcome_Datetime'])\n",
    "intake = train_merged.copy()\n",
    "\n",
    "intake['Name'] = intake['Name'].fillna(0) # 없으면 0을 우선 대입 한개존재\n",
    "intake['YesName'] = intake['Name'].apply(lambda x :0 if type(x) == int else 1)\n",
    "intake['AgeUponIntake'] = intake['AgeUponIntake'].fillna(0)\n",
    "numeric_test = intake['AgeUponIntake'].str.split(\" \", n=1, expand = True)\n",
    "numeric_test[1] = numeric_test[1].apply(lambda x: 365 if x == 'year' else (365 if x == 'years'\\\n",
    "            else(30 if x=='month' else(30 if x=='months' else\\\n",
    "            7 if x=='week' else(7 if x=='weeks' else(1 if x=='days'\\\n",
    "            else(1 if x=='day' else(0))))))))\n",
    "numeric_test = numeric_test.fillna(0)\n",
    "numeric_test[2] = numeric_test[0].astype(int)*numeric_test[1].astype(int)\n",
    "intake['ConvertToDate'] = numeric_test[2]\n",
    "\n",
    "intake[\"SexUponIntake\"].fillna(\"Neutered Male\", inplace=True)\n",
    "train_sex = intake[\"SexUponIntake\"].str.split(expand=True).fillna(\"Unknown\")\n",
    "train_sex[0] = train_sex[0].apply(lambda x: \"Neutered\"\\\n",
    "                              if (x.find(\"Neutered\") != -1) or (x.find(\"Spayed\") != -1) else x)\n",
    "\n",
    "lb_tact = LabelBinarizer()\n",
    "df_tact = pd.DataFrame(lb_tact.fit_transform(train_sex[0]),\\\n",
    "                   columns=[\"Intact\", \"IntactUnknown\", \"Neutered\"])\n",
    "intake = pd.concat([intake,df_tact],axis=1)\n",
    "\n",
    "lb_sex = LabelBinarizer()\n",
    "df_sex = pd.DataFrame(lb_sex.fit_transform(train_sex[1]),\\\n",
    "                  columns=[\"Female\", \"Male\", \"SexUnknown\"])\n",
    "intake = pd.concat([intake,df_sex],axis=1)\n",
    "\n",
    "\n",
    "intake['BreedType'] = intake[\"Breed\"].apply(lambda x: \"Multi_Hybrid\" if x.find(\"Mix\") != -1\\\n",
    "                                   else \"Two_Hybrid\" if x.find(\"/\") != -1 else \"Pure\")\n",
    "\n",
    "intake['MixOrNot'] = intake['Breed'].apply(lambda x: 1 if x.find('Mix') == -1 else 0)\n",
    "intake['OutcomeType'] = intake['OutcomeType'].apply(lambda x: 'Danger' if x=='Died' else('Danger' if x=='Euthanasia' else 'safe'))\n",
    "\n",
    "intake['year'] = intake['Intake_Datetime'].dt.year\n",
    "intake['month'] = intake['Intake_Datetime'].dt.month\n",
    "intake['day'] = intake['Intake_Datetime'].dt.day\n",
    "intake['hour'] = intake['Intake_Datetime'].dt.hour\n",
    "intake['min'] = intake['Intake_Datetime'].dt.minute\n",
    "intake['dayofweek'] = intake['Intake_Datetime'].dt.dayofweek\n",
    "\n",
    "name = intake.groupby([\"YesName\", \"OutcomeType\"]).size().reset_index(name=\"Counts\")\n",
    "\n",
    "ratio_list = []\n",
    "\n",
    "for idx in range(len(name)):\n",
    "    if name.iloc[idx][0] == 0:\n",
    "        ratio_list.append(name.loc[idx][2] / list(intake['YesName'].value_counts())[1])\n",
    "\n",
    "    if name.iloc[idx][0] == 1:\n",
    "        ratio_list.append(name.loc[idx][2] / list(intake['YesName'].value_counts())[0])\n",
    "        \n",
    "ratio = pd.DataFrame({\"ratio\" : ratio_list})\n",
    "name = pd.concat([name, ratio], axis=1)"
   ]
  },
  {
   "cell_type": "code",
   "execution_count": 37,
   "metadata": {},
   "outputs": [],
   "source": [
    "## 플롯팅을 위한 함수정의\n",
    "\n",
    "def drawing_plot(column_name, df, showing_temp_dataframe, method):\n",
    "    temp_dataframe = df.groupby([column_name, \"OutcomeType\"]).size().reset_index(name=\"counts\")\n",
    "\n",
    "    ratio_list = []\n",
    "    temp_dic = {}\n",
    "    temp_list = []\n",
    "\n",
    "    for idx in range(len(temp_dataframe)):\n",
    "        if temp_dataframe.ix[idx][0] not in temp_list :\n",
    "            temp_list.append(temp_dataframe.ix[idx][0])\n",
    "\n",
    "    for data in temp_list:\n",
    "        counts = 0\n",
    "        for idx in range(len(temp_dataframe)):\n",
    "            if temp_dataframe.ix[idx][0] == data:\n",
    "                counts += temp_dataframe.ix[idx][2]\n",
    "        temp_dic[data] = counts\n",
    "    \n",
    "    for data in temp_list:\n",
    "        for idx in range(len(temp_dataframe)):\n",
    "            if temp_dataframe.ix[idx][0] == data:\n",
    "                ratio_list.append(temp_dataframe.ix[idx][2] / temp_dic[data])\n",
    "\n",
    "    ratio = pd.DataFrame({\"ratio\" : ratio_list})\n",
    "    temp_dataframe = pd.concat([temp_dataframe, ratio], axis=1)\n",
    "    \n",
    "    if showing_temp_dataframe:\n",
    "        print(temp_dataframe)\n",
    "        \n",
    "    if method == 'counts':\n",
    "        plt.figure(figsize=(10, 5))\n",
    "        sns.barplot(x='OutcomeType',y='counts',hue=column_name ,data=temp_dataframe)\n",
    "        plt.show()\n",
    "    \n",
    "    if method == 'ratio':\n",
    "        plt.figure(figsize=(10, 5))\n",
    "        sns.barplot(x='OutcomeType',y='ratio',hue=column_name ,data=temp_dataframe)\n",
    "        plt.show()\n",
    "        \n",
    "    return None"
   ]
  },
  {
   "cell_type": "markdown",
   "metadata": {},
   "source": [
    "### Name(이름)에 따른 분포차이\n",
    "- 이름이 없으면 위험군에 분류될 가능성이 더 높다."
   ]
  },
  {
   "cell_type": "code",
   "execution_count": 38,
   "metadata": {},
   "outputs": [
    {
     "name": "stdout",
     "output_type": "stream",
     "text": [
      "   YesName OutcomeType  counts     ratio\n",
      "0        0      Danger     923  0.121704\n",
      "1        0        safe    6661  0.878296\n",
      "2        1      Danger     795  0.043015\n",
      "3        1        safe   17687  0.956985\n"
     ]
    },
    {
     "data": {
      "image/png": "[encoded data removed]",
      "text/plain": [
       "<Figure size 720x360 with 1 Axes>"
      ]
     },
     "metadata": {
      "image/png": {
       "height": 322,
       "width": 615
      },
      "needs_background": "light"
     },
     "output_type": "display_data"
    }
   ],
   "source": [
    "drawing_plot('YesName',intake, True, 'ratio')"
   ]
  },
  {
   "cell_type": "markdown",
   "metadata": {},
   "source": [
    "### 중성화 여부에 따른 분포 차이"
   ]
  },
  {
   "cell_type": "code",
   "execution_count": 39,
   "metadata": {},
   "outputs": [
    {
     "name": "stdout",
     "output_type": "stream",
     "text": [
      "   Neutered OutcomeType  counts     ratio\n",
      "0         0      Danger    1593  0.063730\n",
      "1         0        safe   23403  0.936270\n",
      "2         1      Danger     125  0.116822\n",
      "3         1        safe     945  0.883178\n"
     ]
    },
    {
     "data": {
      "image/png": "[encoded data removed]",
      "text/plain": [
       "<Figure size 720x360 with 1 Axes>"
      ]
     },
     "metadata": {
      "image/png": {
       "height": 322,
       "width": 615
      },
      "needs_background": "light"
     },
     "output_type": "display_data"
    }
   ],
   "source": [
    "drawing_plot('Neutered',intake, True, 'ratio')"
   ]
  },
  {
   "cell_type": "markdown",
   "metadata": {},
   "source": [
    "### 동물의 종류에 따른 분포 차이\n",
    "- Danger만 따로 떼서 보면 고양이가 위험군일 가능성이 더 높다."
   ]
  },
  {
   "cell_type": "code",
   "execution_count": 40,
   "metadata": {},
   "outputs": [
    {
     "name": "stdout",
     "output_type": "stream",
     "text": [
      "  AnimalType OutcomeType  counts     ratio\n",
      "0        Cat      Danger     842  0.078100\n",
      "1        Cat        safe    9939  0.921900\n",
      "2        Dog      Danger     876  0.057311\n",
      "3        Dog        safe   14409  0.942689\n"
     ]
    },
    {
     "data": {
      "image/png": "[encoded data removed]",
      "text/plain": [
       "<Figure size 720x360 with 1 Axes>"
      ]
     },
     "metadata": {
      "image/png": {
       "height": 322,
       "width": 615
      },
      "needs_background": "light"
     },
     "output_type": "display_data"
    }
   ],
   "source": [
    "drawing_plot('AnimalType',intake, True, 'ratio')"
   ]
  },
  {
   "cell_type": "code",
   "execution_count": 41,
   "metadata": {},
   "outputs": [
    {
     "data": {
      "image/png": "[encoded data removed]",
      "text/plain": [
       "<Figure size 432x288 with 1 Axes>"
      ]
     },
     "metadata": {
      "image/png": {
       "height": 268,
       "width": 398
      },
      "needs_background": "light"
     },
     "output_type": "display_data"
    }
   ],
   "source": [
    "intact = intake.groupby([\"Neutered\", \"OutcomeType\"]).size().reset_index(name=\"Counts\")\n",
    "\n",
    "ratio_list = []\n",
    "\n",
    "for idx in range(len(intact)):\n",
    "    if intact.iloc[idx][0] == 0:\n",
    "        ratio_list.append(intact.loc[idx][2] / list(intake['Neutered'].value_counts())[0])\n",
    "\n",
    "    if intact.iloc[idx][0] == 1:\n",
    "        ratio_list.append(intact.loc[idx][2] / list(intake['Neutered'].value_counts())[1])\n",
    "        \n",
    "ratio = pd.DataFrame({\"ratio\" : ratio_list})\n",
    "intact = pd.concat([intact, ratio], axis=1)\n",
    "\n",
    "aniType = intake.groupby([\"AnimalType\", \"OutcomeType\"]).size().reset_index(name=\"Counts\")\n",
    "\n",
    "ratio_list = []\n",
    "\n",
    "for idx in range(len(intact)):\n",
    "    if aniType.iloc[idx][0] == 'Dog':\n",
    "        ratio_list.append(aniType.loc[idx][2] / list(intake['AnimalType'].value_counts())[0])\n",
    "\n",
    "    if aniType.iloc[idx][0] == 'Cat':\n",
    "        ratio_list.append(aniType.loc[idx][2] / list(intake['AnimalType'].value_counts())[1])\n",
    "        \n",
    "ratio = pd.DataFrame({\"ratio\" : ratio_list})\n",
    "aniType = pd.concat([aniType, ratio], axis=1)\n",
    "\n",
    "sns.barplot(x=\"OutcomeType\", y=\"ratio\", hue=\"AnimalType\", data=aniType[aniType['OutcomeType']=='Danger'])\n",
    "plt.show()"
   ]
  },
  {
   "cell_type": "markdown",
   "metadata": {},
   "source": [
    "### 성별에 따른 분포차이\n",
    "- 유의 하지 않은 것으로 나타났다"
   ]
  },
  {
   "cell_type": "code",
   "execution_count": 42,
   "metadata": {},
   "outputs": [
    {
     "name": "stdout",
     "output_type": "stream",
     "text": [
      "   Male OutcomeType  counts     ratio\n",
      "0     0      Danger     820  0.062725\n",
      "1     0        safe   12253  0.937275\n",
      "2     1      Danger     898  0.069114\n",
      "3     1        safe   12095  0.930886\n"
     ]
    },
    {
     "data": {
      "image/png": "[encoded data removed]",
      "text/plain": [
       "<Figure size 720x360 with 1 Axes>"
      ]
     },
     "metadata": {
      "image/png": {
       "height": 322,
       "width": 615
      },
      "needs_background": "light"
     },
     "output_type": "display_data"
    }
   ],
   "source": [
    "drawing_plot('Male',intake, True, 'ratio')"
   ]
  },
  {
   "cell_type": "markdown",
   "metadata": {},
   "source": [
    "### IntakeAge에 따른 분포"
   ]
  },
  {
   "cell_type": "code",
   "execution_count": 43,
   "metadata": {},
   "outputs": [
    {
     "name": "stdout",
     "output_type": "stream",
     "text": [
      "    ConvertToDate OutcomeType  counts     ratio\n",
      "0               0      Danger      11  0.095652\n",
      "1               0        safe     104  0.904348\n",
      "2               1      Danger      13  0.101562\n",
      "3               1        safe     115  0.898438\n",
      "4               2      Danger       7  0.050360\n",
      "5               2        safe     132  0.949640\n",
      "6               3      Danger       6  0.046512\n",
      "7               3        safe     123  0.953488\n",
      "8               4      Danger       4  0.053333\n",
      "9               4        safe      71  0.946667\n",
      "10              5      Danger       1  0.022222\n",
      "11              5        safe      44  0.977778\n",
      "12              6      Danger       2  0.029851\n",
      "13              6        safe      65  0.970149\n",
      "14              7      Danger      26  0.062954\n",
      "15              7        safe     387  0.937046\n",
      "16             14      Danger      20  0.035088\n",
      "17             14        safe     550  0.964912\n",
      "18             21      Danger      32  0.035874\n",
      "19             21        safe     860  0.964126\n",
      "20             28      Danger      55  0.060440\n",
      "21             28        safe     855  0.939560\n",
      "22             30      Danger     166  0.061029\n",
      "23             30        safe    2554  0.938971\n",
      "24             35      Danger       5  0.092593\n",
      "25             35        safe      49  0.907407\n",
      "26             60      Danger      27  0.019424\n",
      "27             60        safe    1363  0.980576\n",
      "28             90      Danger      29  0.039136\n",
      "29             90        safe     712  0.960864\n",
      "..            ...         ...     ...       ...\n",
      "55           1825        safe     873  0.901860\n",
      "56           2190      Danger      51  0.079439\n",
      "57           2190        safe     591  0.920561\n",
      "58           2555      Danger      43  0.082534\n",
      "59           2555        safe     478  0.917466\n",
      "60           2920      Danger      51  0.101796\n",
      "61           2920        safe     450  0.898204\n",
      "62           3285      Danger      40  0.138408\n",
      "63           3285        safe     249  0.861592\n",
      "64           3650      Danger      76  0.180523\n",
      "65           3650        safe     345  0.819477\n",
      "66           4015      Danger      16  0.132231\n",
      "67           4015        safe     105  0.867769\n",
      "68           4380      Danger      56  0.244541\n",
      "69           4380        safe     173  0.755459\n",
      "70           4745      Danger      29  0.211679\n",
      "71           4745        safe     108  0.788321\n",
      "72           5110      Danger      20  0.222222\n",
      "73           5110        safe      70  0.777778\n",
      "74           5475      Danger      18  0.216867\n",
      "75           5475        safe      65  0.783133\n",
      "76           5840      Danger      10  0.277778\n",
      "77           5840        safe      26  0.722222\n",
      "78           6205      Danger       5  0.312500\n",
      "79           6205        safe      11  0.687500\n",
      "80           6570      Danger       3  0.300000\n",
      "81           6570        safe       7  0.700000\n",
      "82           6935      Danger       2  0.666667\n",
      "83           6935        safe       1  0.333333\n",
      "84           7300        safe       2  1.000000\n",
      "\n",
      "[85 rows x 4 columns]\n"
     ]
    },
    {
     "data": {
      "image/png": "[encoded data removed]",
      "text/plain": [
       "<Figure size 720x360 with 1 Axes>"
      ]
     },
     "metadata": {
      "image/png": {
       "height": 715,
       "width": 615
      },
      "needs_background": "light"
     },
     "output_type": "display_data"
    }
   ],
   "source": [
    "drawing_plot('ConvertToDate',intake, True, 'ratio')"
   ]
  },
  {
   "cell_type": "markdown",
   "metadata": {},
   "source": [
    "### intake당시의 Type에 대한 분포 차이\n",
    "- 주인이 안락사를 요구하면 당연히 위험군에 속할 가능성이 높아진다"
   ]
  },
  {
   "cell_type": "code",
   "execution_count": 44,
   "metadata": {},
   "outputs": [
    {
     "name": "stdout",
     "output_type": "stream",
     "text": [
      "           IntakeType OutcomeType  counts     ratio\n",
      "0  Euthanasia Request      Danger     111  0.816176\n",
      "1  Euthanasia Request        safe      25  0.183824\n",
      "2     Owner Surrender      Danger     342  0.070690\n",
      "3     Owner Surrender        safe    4496  0.929310\n",
      "4       Public Assist      Danger      81  0.052090\n",
      "5       Public Assist        safe    1474  0.947910\n",
      "6               Stray      Danger    1184  0.060603\n",
      "7               Stray        safe   18353  0.939397\n"
     ]
    },
    {
     "data": {
      "image/png": "[encoded data removed]",
      "text/plain": [
       "<Figure size 720x360 with 1 Axes>"
      ]
     },
     "metadata": {
      "image/png": {
       "height": 322,
       "width": 615
      },
      "needs_background": "light"
     },
     "output_type": "display_data"
    }
   ],
   "source": [
    "drawing_plot('IntakeType',intake, True, 'ratio')"
   ]
  },
  {
   "cell_type": "markdown",
   "metadata": {},
   "source": [
    "### 순종과 혼종(MIx)에 따른 분포차이\n",
    "- Mix견일 수록 위험군에 속할 가능성이 높다"
   ]
  },
  {
   "cell_type": "code",
   "execution_count": 45,
   "metadata": {},
   "outputs": [
    {
     "name": "stdout",
     "output_type": "stream",
     "text": [
      "   MixOrNot OutcomeType  counts     ratio\n",
      "0         0      Danger    1515  0.069806\n",
      "1         0        safe   20188  0.930194\n",
      "2         1      Danger     203  0.046528\n",
      "3         1        safe    4160  0.953472\n"
     ]
    },
    {
     "data": {
      "image/png": "[encoded data removed]",
      "text/plain": [
       "<Figure size 720x360 with 1 Axes>"
      ]
     },
     "metadata": {
      "image/png": {
       "height": 323,
       "width": 615
      },
      "needs_background": "light"
     },
     "output_type": "display_data"
    }
   ],
   "source": [
    "drawing_plot('MixOrNot',intake, True, 'ratio')"
   ]
  },
  {
   "cell_type": "code",
   "execution_count": 46,
   "metadata": {},
   "outputs": [
    {
     "data": {
      "image/png": "[encoded data removed]",
      "text/plain": [
       "<Figure size 432x288 with 1 Axes>"
      ]
     },
     "metadata": {
      "image/png": {
       "height": 268,
       "width": 398
      },
      "needs_background": "light"
     },
     "output_type": "display_data"
    }
   ],
   "source": [
    "MixType = intake.groupby([\"MixOrNot\", \"OutcomeType\"]).size().reset_index(name=\"Counts\")\n",
    "\n",
    "ratio_list = []\n",
    "\n",
    "for idx in range(len(MixType)):\n",
    "    if MixType.iloc[idx][0] == 0:\n",
    "        ratio_list.append(MixType.loc[idx][2] / list(intake['MixOrNot'].value_counts())[0])\n",
    "\n",
    "    if MixType.iloc[idx][0] == 1:\n",
    "        ratio_list.append(MixType.loc[idx][2] / list(intake['MixOrNot'].value_counts())[1])\n",
    "        \n",
    "ratio = pd.DataFrame({\"ratio\" : ratio_list})\n",
    "MixType = pd.concat([MixType, ratio], axis=1)\n",
    "\n",
    "sns.barplot(x=\"OutcomeType\", y=\"ratio\", hue=\"MixOrNot\", data=MixType[MixType['OutcomeType']=='Danger'])\n",
    "plt.show()"
   ]
  },
  {
   "cell_type": "markdown",
   "metadata": {},
   "source": [
    "### Intake당시 Condtion에 따른 분포 차이\n",
    "- 나이가 들었을 수록(Aged), 다쳤을 수록(Injured), 아플수록 위험성이 높았고(sick),\n",
    "- 야생일수록(Feral), 보호를 받을수록(Nursing), 임신을 했을수록(Pregnant) 더 안전한 것으로 나타났다."
   ]
  },
  {
   "cell_type": "code",
   "execution_count": 47,
   "metadata": {},
   "outputs": [
    {
     "name": "stdout",
     "output_type": "stream",
     "text": [
      "   IntakeCondition OutcomeType  counts     ratio\n",
      "0             Aged      Danger      43  0.355372\n",
      "1             Aged        safe      78  0.644628\n",
      "2            Feral      Danger       2  0.048780\n",
      "3            Feral        safe      39  0.951220\n",
      "4          Injured      Danger     456  0.372854\n",
      "5          Injured        safe     767  0.627146\n",
      "6           Normal      Danger     877  0.038172\n",
      "7           Normal        safe   22098  0.961828\n",
      "8          Nursing      Danger      38  0.049934\n",
      "9          Nursing        safe     723  0.950066\n",
      "10           Other      Danger       8  0.126984\n",
      "11           Other        safe      55  0.873016\n",
      "12        Pregnant      Danger       1  0.090909\n",
      "13        Pregnant        safe      10  0.909091\n",
      "14            Sick      Danger     293  0.336395\n",
      "15            Sick        safe     578  0.663605\n"
     ]
    },
    {
     "data": {
      "image/png": "[encoded data removed]",
      "text/plain": [
       "<Figure size 720x360 with 1 Axes>"
      ]
     },
     "metadata": {
      "image/png": {
       "height": 322,
       "width": 615
      },
      "needs_background": "light"
     },
     "output_type": "display_data"
    }
   ],
   "source": [
    "drawing_plot('IntakeCondition',intake, True, 'ratio')"
   ]
  },
  {
   "cell_type": "markdown",
   "metadata": {},
   "source": [
    "### Mix견 세분화\n",
    "- 순종과 2가지 혼종은 유의한 차이가 보이지 않았지만, 잡종은 위험도가 유의하게 높은 것으로 나타났다."
   ]
  },
  {
   "cell_type": "code",
   "execution_count": 48,
   "metadata": {},
   "outputs": [
    {
     "name": "stdout",
     "output_type": "stream",
     "text": [
      "      BreedType OutcomeType  counts     ratio\n",
      "0  Multi_Hybrid      Danger    1515  0.069806\n",
      "1  Multi_Hybrid        safe   20188  0.930194\n",
      "2          Pure      Danger      71  0.051787\n",
      "3          Pure        safe    1300  0.948213\n",
      "4    Two_Hybrid      Danger     132  0.044118\n",
      "5    Two_Hybrid        safe    2860  0.955882\n"
     ]
    },
    {
     "data": {
      "image/png": "[encoded data removed]",
      "text/plain": [
       "<Figure size 720x360 with 1 Axes>"
      ]
     },
     "metadata": {
      "image/png": {
       "height": 322,
       "width": 615
      },
      "needs_background": "light"
     },
     "output_type": "display_data"
    }
   ],
   "source": [
    "drawing_plot('BreedType',intake, True, 'ratio')"
   ]
  },
  {
   "cell_type": "code",
   "execution_count": 49,
   "metadata": {},
   "outputs": [
    {
     "data": {
      "image/png": "[encoded data removed]",
      "text/plain": [
       "<Figure size 432x288 with 1 Axes>"
      ]
     },
     "metadata": {
      "image/png": {
       "height": 268,
       "width": 398
      },
      "needs_background": "light"
     },
     "output_type": "display_data"
    }
   ],
   "source": [
    "BreedType = intake.groupby([\"BreedType\", \"OutcomeType\"]).size().reset_index(name=\"Counts\")\n",
    "\n",
    "ratio_list = []\n",
    "\n",
    "for idx in range(len(BreedType)):\n",
    "    if BreedType.iloc[idx][0] == 'Multi_Hybrid':\n",
    "        ratio_list.append(BreedType.loc[idx][2] / list(intake['BreedType'].value_counts())[0])\n",
    "\n",
    "    if BreedType.iloc[idx][0] == 'Two_Hybrid':\n",
    "        ratio_list.append(BreedType.loc[idx][2] / list(intake['BreedType'].value_counts())[1])\n",
    "    \n",
    "    if BreedType.iloc[idx][0] == 'Pure':\n",
    "        ratio_list.append(BreedType.loc[idx][2] / list(intake['BreedType'].value_counts())[2])\n",
    "        \n",
    "        \n",
    "ratio = pd.DataFrame({\"ratio\" : ratio_list})\n",
    "BreedType = pd.concat([BreedType, ratio], axis=1)\n",
    "\n",
    "sns.barplot(x=\"OutcomeType\", y=\"ratio\", hue=\"BreedType\", data=BreedType[BreedType['OutcomeType']=='Danger'])\n",
    "plt.show()"
   ]
  },
  {
   "cell_type": "markdown",
   "metadata": {},
   "source": [
    "### 정리\n",
    "- 위험군이라고 판단되는 Aged, injured, sick 이외에도, 이름의 유무, 순종인지 혼종인지 등이 유의미한 것으로 확인 \n",
    "- 강아지인지 고양이인지에 따라서도 위험군의 차이가 유의하게 나타나므로, 이름이 없고, 고양이고, 잡종인 동물에 대해서 조금 더 섬세한 보호,관리가 필요하다고 판단"
   ]
  },
  {
   "cell_type": "markdown",
   "metadata": {},
   "source": [
    "### 2.4.5 Test 데이터 분리\n",
    "- 전체 데이터 중 30%를 OutcomeType의 비율을 유지하여 Test 데이터로 분리"
   ]
  },
  {
   "cell_type": "code",
   "execution_count": 50,
   "metadata": {},
   "outputs": [],
   "source": [
    "train, test = train_test_split(train_intake, test_size=0.3, random_state=0,\n",
    "                               stratify=train_intake['OutcomeType'].values)"
   ]
  },
  {
   "cell_type": "code",
   "execution_count": 51,
   "metadata": {},
   "outputs": [],
   "source": [
    "train.reset_index(drop=True, inplace=True)\n",
    "test.reset_index(drop=True, inplace=True)"
   ]
  },
  {
   "cell_type": "code",
   "execution_count": 52,
   "metadata": {
    "scrolled": true
   },
   "outputs": [
    {
     "data": {
      "text/html": [
       "<div>\n",
       "<style scoped>\n",
       "    .dataframe tbody tr th:only-of-type {\n",
       "        vertical-align: middle;\n",
       "    }\n",
       "\n",
       "    .dataframe tbody tr th {\n",
       "        vertical-align: top;\n",
       "    }\n",
       "\n",
       "    .dataframe thead th {\n",
       "        text-align: right;\n",
       "    }\n",
       "</style>\n",
       "<table border=\"1\" class=\"dataframe\">\n",
       "  <thead>\n",
       "    <tr style=\"text-align: right;\">\n",
       "      <th></th>\n",
       "      <th>AnimalID</th>\n",
       "      <th>Name</th>\n",
       "      <th>OutcomeType</th>\n",
       "      <th>AnimalType</th>\n",
       "      <th>Breed</th>\n",
       "      <th>Color</th>\n",
       "      <th>Intake_Datetime</th>\n",
       "      <th>IntakeType</th>\n",
       "      <th>IntakeCondition</th>\n",
       "      <th>SexUponIntake</th>\n",
       "      <th>AgeUponIntake</th>\n",
       "    </tr>\n",
       "  </thead>\n",
       "  <tbody>\n",
       "    <tr>\n",
       "      <th>18241</th>\n",
       "      <td>A706603</td>\n",
       "      <td>Maggie</td>\n",
       "      <td>Safe</td>\n",
       "      <td>Dog</td>\n",
       "      <td>Australian Shepherd/Rottweiler</td>\n",
       "      <td>Brown</td>\n",
       "      <td>2015-06-30 22:00:00</td>\n",
       "      <td>Public Assist</td>\n",
       "      <td>Injured</td>\n",
       "      <td>Intact Female</td>\n",
       "      <td>3 years</td>\n",
       "    </tr>\n",
       "    <tr>\n",
       "      <th>18242</th>\n",
       "      <td>A703497</td>\n",
       "      <td>Coal</td>\n",
       "      <td>Safe</td>\n",
       "      <td>Dog</td>\n",
       "      <td>Labrador Retriever Mix</td>\n",
       "      <td>Black</td>\n",
       "      <td>2015-05-29 13:34:00</td>\n",
       "      <td>Public Assist</td>\n",
       "      <td>Normal</td>\n",
       "      <td>Intact Male</td>\n",
       "      <td>8 months</td>\n",
       "    </tr>\n",
       "    <tr>\n",
       "      <th>18243</th>\n",
       "      <td>A694776</td>\n",
       "      <td>Tommy</td>\n",
       "      <td>Safe</td>\n",
       "      <td>Cat</td>\n",
       "      <td>Domestic Shorthair Mix</td>\n",
       "      <td>Black/White</td>\n",
       "      <td>2015-01-03 18:08:00</td>\n",
       "      <td>Stray</td>\n",
       "      <td>Normal</td>\n",
       "      <td>Neutered Male</td>\n",
       "      <td>7 years</td>\n",
       "    </tr>\n",
       "    <tr>\n",
       "      <th>18244</th>\n",
       "      <td>A671133</td>\n",
       "      <td>Chuck</td>\n",
       "      <td>Safe</td>\n",
       "      <td>Dog</td>\n",
       "      <td>American Bulldog Mix</td>\n",
       "      <td>White/Brown Brindle</td>\n",
       "      <td>2014-01-19 09:26:00</td>\n",
       "      <td>Stray</td>\n",
       "      <td>Normal</td>\n",
       "      <td>Intact Male</td>\n",
       "      <td>1 year</td>\n",
       "    </tr>\n",
       "    <tr>\n",
       "      <th>18245</th>\n",
       "      <td>A673277</td>\n",
       "      <td>NaN</td>\n",
       "      <td>Safe</td>\n",
       "      <td>Cat</td>\n",
       "      <td>Domestic Shorthair Mix</td>\n",
       "      <td>Blue Tabby</td>\n",
       "      <td>2014-02-21 11:45:00</td>\n",
       "      <td>Stray</td>\n",
       "      <td>Normal</td>\n",
       "      <td>Unknown</td>\n",
       "      <td>8 months</td>\n",
       "    </tr>\n",
       "  </tbody>\n",
       "</table>\n",
       "</div>"
      ],
      "text/plain": [
       "      AnimalID    Name OutcomeType AnimalType                           Breed  \\\n",
       "18241  A706603  Maggie        Safe        Dog  Australian Shepherd/Rottweiler   \n",
       "18242  A703497    Coal        Safe        Dog          Labrador Retriever Mix   \n",
       "18243  A694776   Tommy        Safe        Cat          Domestic Shorthair Mix   \n",
       "18244  A671133   Chuck        Safe        Dog            American Bulldog Mix   \n",
       "18245  A673277     NaN        Safe        Cat          Domestic Shorthair Mix   \n",
       "\n",
       "                     Color     Intake_Datetime     IntakeType IntakeCondition  \\\n",
       "18241                Brown 2015-06-30 22:00:00  Public Assist         Injured   \n",
       "18242                Black 2015-05-29 13:34:00  Public Assist          Normal   \n",
       "18243          Black/White 2015-01-03 18:08:00          Stray          Normal   \n",
       "18244  White/Brown Brindle 2014-01-19 09:26:00          Stray          Normal   \n",
       "18245           Blue Tabby 2014-02-21 11:45:00          Stray          Normal   \n",
       "\n",
       "       SexUponIntake AgeUponIntake  \n",
       "18241  Intact Female       3 years  \n",
       "18242    Intact Male      8 months  \n",
       "18243  Neutered Male       7 years  \n",
       "18244    Intact Male        1 year  \n",
       "18245        Unknown      8 months  "
      ]
     },
     "execution_count": 52,
     "metadata": {},
     "output_type": "execute_result"
    }
   ],
   "source": [
    "train.tail()"
   ]
  },
  {
   "cell_type": "markdown",
   "metadata": {},
   "source": [
    "### 2.4.6 데이터 전처리"
   ]
  },
  {
   "cell_type": "markdown",
   "metadata": {},
   "source": [
    "#### 1) SexuponIntake"
   ]
  },
  {
   "cell_type": "markdown",
   "metadata": {},
   "source": [
    "##### Train"
   ]
  },
  {
   "cell_type": "code",
   "execution_count": 53,
   "metadata": {},
   "outputs": [],
   "source": [
    "# 중성화 여부와 성별을 두 컬럼으로 분리\n",
    "train_sex = train[\"SexUponIntake\"].str.split(expand=True)\n",
    "train_sex[0] = train_sex[0].apply(lambda x: \"Neutered\"\\\n",
    "                                  if (x.find(\"Neutered\") != -1) or (x.find(\"Spayed\") != -1) else x)\n",
    "# 성별 컬럼의 결측값을 'SexUnknown'로 대체\n",
    "train_sex[1].fillna(\"SexUnknown\", inplace=True)\n",
    "\n",
    "# 성별 컬럼 One Hot Encoding\n",
    "ohe_sex = OneHotEncoder()\n",
    "ohe_sex.fit(train_sex.values)\n",
    "df_sex = pd.DataFrame(ohe_sex.transform(train_sex.values).toarray(),\n",
    "                      columns=np.hstack(ohe_sex.categories_))\n",
    "\n",
    "# 데이터 타입을 int로 변환\n",
    "trans_type(df_sex, df_sex.columns, 'int')"
   ]
  },
  {
   "cell_type": "markdown",
   "metadata": {},
   "source": [
    "##### Test"
   ]
  },
  {
   "cell_type": "code",
   "execution_count": 54,
   "metadata": {},
   "outputs": [],
   "source": [
    "# 중성화 여부와 성별을 두 컬럼으로 분리\n",
    "test_sex = test[\"SexUponIntake\"].str.split(expand=True)\n",
    "test_sex[0] = test_sex[0].apply(lambda x: \"Neutered\"\\\n",
    "                                  if (x.find(\"Neutered\") != -1) or (x.find(\"Spayed\") != -1) else x)\n",
    "# 성별 컬럼의 결측값을 'SexUnknown'로 대체\n",
    "test_sex[1].fillna(\"SexUnknown\", inplace=True)\n",
    "\n",
    "test_sex = pd.DataFrame(ohe_sex.transform(test_sex.values).toarray(),\n",
    "                        columns=np.hstack(ohe_sex.categories_))\n",
    "\n",
    "# 데이터 타입을 int로 변환\n",
    "trans_type(test_sex, test_sex.columns, 'int')"
   ]
  },
  {
   "cell_type": "markdown",
   "metadata": {},
   "source": [
    "#### 2) Animal_type"
   ]
  },
  {
   "cell_type": "markdown",
   "metadata": {},
   "source": [
    "##### Train"
   ]
  },
  {
   "cell_type": "code",
   "execution_count": 55,
   "metadata": {},
   "outputs": [],
   "source": [
    "# Dog: 0, Cat: 1 로 변환\n",
    "train[\"AnimalType\"] = train[\"AnimalType\"].apply(lambda x: 0 if x.find(\"Dog\") != -1 else 1)"
   ]
  },
  {
   "cell_type": "markdown",
   "metadata": {},
   "source": [
    "##### Test"
   ]
  },
  {
   "cell_type": "code",
   "execution_count": 56,
   "metadata": {},
   "outputs": [],
   "source": [
    "# Dog: 0, Cat: 1 로 변환\n",
    "test[\"AnimalType\"] = test[\"AnimalType\"].apply(lambda x: 0 if x.find(\"Dog\") != -1 else 1)"
   ]
  },
  {
   "cell_type": "markdown",
   "metadata": {},
   "source": [
    "#### 3) AgeuponIntake"
   ]
  },
  {
   "cell_type": "markdown",
   "metadata": {},
   "source": [
    "##### Train"
   ]
  },
  {
   "cell_type": "code",
   "execution_count": 57,
   "metadata": {},
   "outputs": [],
   "source": [
    "dict_day_unit = {\n",
    "    'day': 1,\n",
    "    'days': 1,\n",
    "    'week': 7,\n",
    "    'weeks': 7,\n",
    "    'month': 30,\n",
    "    'months': 30,\n",
    "    'year': 365,\n",
    "    'years': 365\n",
    "}\n",
    "\n",
    "# AgeuponOutcome 컬럼을 value와 unit으로 분리\n",
    "train_age = train[\"AgeUponIntake\"].str.split(expand=True)\n",
    "# unit을 'day'로 age 계산\n",
    "train[\"AgeUponIntake\"] = train_age[0].astype('float64') * train_age[1].map(dict_day_unit)\n",
    "# 데이터 타입을 int로 변환\n",
    "trans_type(train, [\"AgeUponIntake\"], 'int')"
   ]
  },
  {
   "cell_type": "markdown",
   "metadata": {},
   "source": [
    "##### Test"
   ]
  },
  {
   "cell_type": "code",
   "execution_count": 58,
   "metadata": {},
   "outputs": [],
   "source": [
    "# AgeuponOutcome 컬럼을 value와 unit으로 분리\n",
    "test_age = test[\"AgeUponIntake\"].str.split(expand=True)\n",
    "# unit을 'day'로 age 계산\n",
    "test[\"AgeUponIntake\"] = test_age[0].astype('float64') * test_age[1].map(dict_day_unit)\n",
    "# 데이터 타입을 int로 변환\n",
    "trans_type(test, [\"AgeUponIntake\"], 'int')"
   ]
  },
  {
   "cell_type": "markdown",
   "metadata": {},
   "source": [
    "#### 4) DateTime"
   ]
  },
  {
   "cell_type": "markdown",
   "metadata": {},
   "source": [
    "##### Train"
   ]
  },
  {
   "cell_type": "code",
   "execution_count": 59,
   "metadata": {},
   "outputs": [],
   "source": [
    "# train[\"Year\"] = train[\"Intake_Datetime\"].apply(lambda t: t.year)\n",
    "train[\"Month\"] = train[\"Intake_Datetime\"].apply(lambda t: t.month)\n",
    "train[\"Day\"] = train[\"Intake_Datetime\"].apply(lambda t: t.day)\n",
    "train[\"DayOfWeek\"] = train[\"Intake_Datetime\"].apply(lambda t: t.dayofweek)\n",
    "train[\"Hour\"] = train[\"Intake_Datetime\"].apply(lambda t: t.hour)\n",
    "train[\"Minute\"] = train[\"Intake_Datetime\"].apply(lambda t: t.minute)\n",
    "# 데이터 타입을 int로 변환\n",
    "# trans_type(train, [\"Year\", \"Month\", \"Day\", \"DayOfWeek\", \"Hour\", \"Minute\"], 'int')\n",
    "trans_type(train, [\"Month\", \"Day\", \"DayOfWeek\", \"Hour\", \"Minute\"], 'int')"
   ]
  },
  {
   "cell_type": "markdown",
   "metadata": {},
   "source": [
    "##### Test"
   ]
  },
  {
   "cell_type": "code",
   "execution_count": 60,
   "metadata": {},
   "outputs": [],
   "source": [
    "# test[\"Year\"] = test[\"Intake_Datetime\"].apply(lambda t: t.year)\n",
    "test[\"Month\"] = test[\"Intake_Datetime\"].apply(lambda t: t.month)\n",
    "test[\"Day\"] = test[\"Intake_Datetime\"].apply(lambda t: t.day)\n",
    "test[\"DayOfWeek\"] = test[\"Intake_Datetime\"].apply(lambda t: t.dayofweek)\n",
    "test[\"Hour\"] = test[\"Intake_Datetime\"].apply(lambda t: t.hour)\n",
    "test[\"Minute\"] = test[\"Intake_Datetime\"].apply(lambda t: t.minute)\n",
    "# 데이터 타입을 int로 변환\n",
    "# trans_type(test, [\"Year\", \"Month\", \"Day\", \"DayOfWeek\", \"Hour\", \"Minute\"], 'int')\n",
    "trans_type(test, [\"Month\", \"Day\", \"DayOfWeek\", \"Hour\", \"Minute\"], 'int')"
   ]
  },
  {
   "cell_type": "markdown",
   "metadata": {},
   "source": [
    "#### 5) Name"
   ]
  },
  {
   "cell_type": "markdown",
   "metadata": {},
   "source": [
    "##### Train"
   ]
  },
  {
   "cell_type": "code",
   "execution_count": 61,
   "metadata": {},
   "outputs": [],
   "source": [
    "# Nameless: 0, Named: 1 로 변환\n",
    "train[\"Name\"] = train[\"Name\"].apply(lambda x: 0 if pd.isna(x) else 1)"
   ]
  },
  {
   "cell_type": "markdown",
   "metadata": {},
   "source": [
    "##### Test"
   ]
  },
  {
   "cell_type": "code",
   "execution_count": 62,
   "metadata": {},
   "outputs": [],
   "source": [
    "# Nameless: 0, Named: 1 로 변환\n",
    "test[\"Name\"] = test[\"Name\"].apply(lambda x: 0 if pd.isna(x) else 1)"
   ]
  },
  {
   "cell_type": "markdown",
   "metadata": {},
   "source": [
    "#### 6) Breed"
   ]
  },
  {
   "cell_type": "markdown",
   "metadata": {},
   "source": [
    "- 순종 / 잡종\n",
    "    - `Mix` 포함: 잡종\n",
    "    - `/` 포함: 두개의 종\n",
    "    - 그 외: 순종"
   ]
  },
  {
   "cell_type": "markdown",
   "metadata": {},
   "source": [
    "##### Train"
   ]
  },
  {
   "cell_type": "code",
   "execution_count": 63,
   "metadata": {},
   "outputs": [],
   "source": [
    "# 잡종: Mutt, 두개의 종: Dual, 순종: Pure 로 변환\n",
    "ser_breed_mix = train[\"Breed\"].apply(lambda x: \"Multi_Hybrid\" if x.find(\"Mix\") != -1\\\n",
    "                                   else \"Two_Hybrid\" if x.find(\"/\") != -1 else \"Pure\")\n",
    "\n",
    "# One Hot Encoding\n",
    "ohe_breed = OneHotEncoder()\n",
    "ohe_breed.fit(ser_breed_mix.values.reshape(-1, 1))\n",
    "df_breed_mix = pd.DataFrame(ohe_breed.transform(ser_breed_mix.values.reshape(-1, 1)).toarray(),\\\n",
    "                            columns=ohe_breed.categories_[0])\n",
    "\n",
    "# 데이터 타입을 int로 변환\n",
    "trans_type(df_breed_mix, df_breed_mix.columns, 'int')"
   ]
  },
  {
   "cell_type": "markdown",
   "metadata": {},
   "source": [
    "##### Test"
   ]
  },
  {
   "cell_type": "code",
   "execution_count": 64,
   "metadata": {},
   "outputs": [],
   "source": [
    "# 잡종: Mutt, 두개의 종: Dual, 순종: Pure 로 변환\n",
    "ser_breed_mix = test[\"Breed\"].apply(lambda x: \"Multi_Hybrid\" if x.find(\"Mix\") != -1\\\n",
    "                                   else \"Two_Hybrid\" if x.find(\"/\") != -1 else \"Pure\")\n",
    "\n",
    "# One Hot Encoding\n",
    "test_breed_mix = pd.DataFrame(ohe_breed.transform(ser_breed_mix.values.reshape(-1, 1)).toarray(),\n",
    "                              columns=ohe_breed.categories_[0])\n",
    "\n",
    "# 데이터 타입을 int로 변환\n",
    "trans_type(test_breed_mix, test_breed_mix.columns, 'int')"
   ]
  },
  {
   "cell_type": "markdown",
   "metadata": {},
   "source": [
    "#### 7) Color"
   ]
  },
  {
   "cell_type": "markdown",
   "metadata": {},
   "source": [
    "##### Train"
   ]
  },
  {
   "cell_type": "code",
   "execution_count": 65,
   "metadata": {},
   "outputs": [],
   "source": [
    "# BOW 구성\n",
    "patterns = [\"Agouti\", \"Brindle\", \"Calico\", \"Merle\", \"Point\", \"Smoke\", \n",
    "            \"Tabby\", \"Tick\", \"Tiger\", \"Torbie\", \"Tortie\", \"Tricolor\"]\n",
    "li_vector_pattern = []\n",
    "for row in train[\"Color\"]:\n",
    "    dic = {}\n",
    "    for pattern in patterns:\n",
    "         if pattern in row:\n",
    "                dic[pattern] = 1\n",
    "    li_vector_pattern.append(dic)\n",
    "    \n",
    "v_pattern = DictVectorizer(sparse=False)\n",
    "df_pattern = pd.DataFrame(v_pattern.fit_transform(li_vector_pattern),\\\n",
    "                        columns=v_pattern.feature_names_)\n",
    "\n",
    "trans_type(df_pattern, df_pattern.columns, \"int\")"
   ]
  },
  {
   "cell_type": "markdown",
   "metadata": {},
   "source": [
    "##### Test"
   ]
  },
  {
   "cell_type": "code",
   "execution_count": 66,
   "metadata": {},
   "outputs": [],
   "source": [
    "# BOW 구성\n",
    "li_vector_pattern = []\n",
    "for row in test[\"Color\"]:\n",
    "    dic = {}\n",
    "    for pattern in patterns:\n",
    "         if pattern in row:\n",
    "                dic[pattern] = 1\n",
    "    li_vector_pattern.append(dic)\n",
    "    \n",
    "test_pattern = pd.DataFrame(v_pattern.transform(li_vector_pattern),\\\n",
    "                            columns=v_pattern.feature_names_)\n",
    "\n",
    "trans_type(test_pattern, test_pattern.columns, 'int')"
   ]
  },
  {
   "cell_type": "markdown",
   "metadata": {},
   "source": [
    "#### 8) IntakeCondition"
   ]
  },
  {
   "cell_type": "markdown",
   "metadata": {},
   "source": [
    "##### Train"
   ]
  },
  {
   "cell_type": "code",
   "execution_count": 67,
   "metadata": {},
   "outputs": [],
   "source": [
    "ohe_cond = OneHotEncoder()\n",
    "ohe_cond.fit(train[['IntakeCondition']].values)\n",
    "df_cond = pd.DataFrame(ohe_cond.transform(train[['IntakeCondition']].values).toarray(),\n",
    "                       columns=ohe_cond.categories_[0])\n",
    "trans_type(df_cond, df_cond.columns, \"int\")"
   ]
  },
  {
   "cell_type": "markdown",
   "metadata": {},
   "source": [
    "##### Test"
   ]
  },
  {
   "cell_type": "code",
   "execution_count": 68,
   "metadata": {},
   "outputs": [],
   "source": [
    "test_cond = pd.DataFrame(ohe_cond.transform(test[['IntakeCondition']].values).toarray(),\n",
    "                       columns=ohe_cond.categories_[0])\n",
    "trans_type(test_cond, test_cond.columns, \"int\")"
   ]
  },
  {
   "cell_type": "markdown",
   "metadata": {},
   "source": [
    "#### 9) IntakeType"
   ]
  },
  {
   "cell_type": "markdown",
   "metadata": {},
   "source": [
    "##### Train"
   ]
  },
  {
   "cell_type": "code",
   "execution_count": 69,
   "metadata": {},
   "outputs": [],
   "source": [
    "ohe_type = OneHotEncoder()\n",
    "ohe_type.fit(train[['IntakeType']].values)\n",
    "df_type = pd.DataFrame(ohe_type.transform(train[['IntakeType']].values).toarray(),\n",
    "                       columns=ohe_type.categories_[0])\n",
    "trans_type(df_type, df_type.columns, \"int\")"
   ]
  },
  {
   "cell_type": "markdown",
   "metadata": {},
   "source": [
    "##### Test"
   ]
  },
  {
   "cell_type": "code",
   "execution_count": 70,
   "metadata": {},
   "outputs": [],
   "source": [
    "test_type = pd.DataFrame(ohe_type.transform(test[['IntakeType']].values).toarray(),\n",
    "                         columns=ohe_type.categories_[0])\n",
    "trans_type(test_type, test_type.columns, \"int\")"
   ]
  },
  {
   "cell_type": "markdown",
   "metadata": {},
   "source": [
    "#### 10) OutcomeType"
   ]
  },
  {
   "cell_type": "markdown",
   "metadata": {},
   "source": [
    "##### Train"
   ]
  },
  {
   "cell_type": "code",
   "execution_count": 71,
   "metadata": {},
   "outputs": [],
   "source": [
    "le_target = LabelEncoder()\n",
    "train[\"OutcomeType\"] = pd.Series(le_target.fit_transform(train[\"OutcomeType\"].values))"
   ]
  },
  {
   "cell_type": "markdown",
   "metadata": {},
   "source": [
    "##### Test"
   ]
  },
  {
   "cell_type": "code",
   "execution_count": 72,
   "metadata": {},
   "outputs": [],
   "source": [
    "test[\"OutcomeType\"] = pd.Series(le_target.transform(test[\"OutcomeType\"]))"
   ]
  },
  {
   "cell_type": "markdown",
   "metadata": {},
   "source": [
    "### 2.4.7 Classification(Train)"
   ]
  },
  {
   "cell_type": "markdown",
   "metadata": {},
   "source": [
    "#### 1) DataFrame 재구성\n",
    "- 전처리된 결과들로 Train DataFrame 재구성"
   ]
  },
  {
   "cell_type": "code",
   "execution_count": 73,
   "metadata": {},
   "outputs": [
    {
     "data": {
      "text/html": [
       "<div>\n",
       "<style scoped>\n",
       "    .dataframe tbody tr th:only-of-type {\n",
       "        vertical-align: middle;\n",
       "    }\n",
       "\n",
       "    .dataframe tbody tr th {\n",
       "        vertical-align: top;\n",
       "    }\n",
       "\n",
       "    .dataframe thead th {\n",
       "        text-align: right;\n",
       "    }\n",
       "</style>\n",
       "<table border=\"1\" class=\"dataframe\">\n",
       "  <thead>\n",
       "    <tr style=\"text-align: right;\">\n",
       "      <th></th>\n",
       "      <th>Name</th>\n",
       "      <th>OutcomeType</th>\n",
       "      <th>AnimalType</th>\n",
       "      <th>AgeUponIntake</th>\n",
       "      <th>Month</th>\n",
       "      <th>Day</th>\n",
       "      <th>DayOfWeek</th>\n",
       "      <th>Hour</th>\n",
       "      <th>Minute</th>\n",
       "      <th>Intact</th>\n",
       "      <th>...</th>\n",
       "      <th>Injured</th>\n",
       "      <th>Normal</th>\n",
       "      <th>Nursing</th>\n",
       "      <th>Other</th>\n",
       "      <th>Pregnant</th>\n",
       "      <th>Sick</th>\n",
       "      <th>Euthanasia Request</th>\n",
       "      <th>Owner Surrender</th>\n",
       "      <th>Public Assist</th>\n",
       "      <th>Stray</th>\n",
       "    </tr>\n",
       "  </thead>\n",
       "  <tbody>\n",
       "    <tr>\n",
       "      <th>18241</th>\n",
       "      <td>1</td>\n",
       "      <td>1</td>\n",
       "      <td>0</td>\n",
       "      <td>1095</td>\n",
       "      <td>6</td>\n",
       "      <td>30</td>\n",
       "      <td>1</td>\n",
       "      <td>22</td>\n",
       "      <td>0</td>\n",
       "      <td>1</td>\n",
       "      <td>...</td>\n",
       "      <td>1</td>\n",
       "      <td>0</td>\n",
       "      <td>0</td>\n",
       "      <td>0</td>\n",
       "      <td>0</td>\n",
       "      <td>0</td>\n",
       "      <td>0</td>\n",
       "      <td>0</td>\n",
       "      <td>1</td>\n",
       "      <td>0</td>\n",
       "    </tr>\n",
       "    <tr>\n",
       "      <th>18242</th>\n",
       "      <td>1</td>\n",
       "      <td>1</td>\n",
       "      <td>0</td>\n",
       "      <td>240</td>\n",
       "      <td>5</td>\n",
       "      <td>29</td>\n",
       "      <td>4</td>\n",
       "      <td>13</td>\n",
       "      <td>34</td>\n",
       "      <td>1</td>\n",
       "      <td>...</td>\n",
       "      <td>0</td>\n",
       "      <td>1</td>\n",
       "      <td>0</td>\n",
       "      <td>0</td>\n",
       "      <td>0</td>\n",
       "      <td>0</td>\n",
       "      <td>0</td>\n",
       "      <td>0</td>\n",
       "      <td>1</td>\n",
       "      <td>0</td>\n",
       "    </tr>\n",
       "    <tr>\n",
       "      <th>18243</th>\n",
       "      <td>1</td>\n",
       "      <td>1</td>\n",
       "      <td>1</td>\n",
       "      <td>2555</td>\n",
       "      <td>1</td>\n",
       "      <td>3</td>\n",
       "      <td>5</td>\n",
       "      <td>18</td>\n",
       "      <td>8</td>\n",
       "      <td>0</td>\n",
       "      <td>...</td>\n",
       "      <td>0</td>\n",
       "      <td>1</td>\n",
       "      <td>0</td>\n",
       "      <td>0</td>\n",
       "      <td>0</td>\n",
       "      <td>0</td>\n",
       "      <td>0</td>\n",
       "      <td>0</td>\n",
       "      <td>0</td>\n",
       "      <td>1</td>\n",
       "    </tr>\n",
       "    <tr>\n",
       "      <th>18244</th>\n",
       "      <td>1</td>\n",
       "      <td>1</td>\n",
       "      <td>0</td>\n",
       "      <td>365</td>\n",
       "      <td>1</td>\n",
       "      <td>19</td>\n",
       "      <td>6</td>\n",
       "      <td>9</td>\n",
       "      <td>26</td>\n",
       "      <td>1</td>\n",
       "      <td>...</td>\n",
       "      <td>0</td>\n",
       "      <td>1</td>\n",
       "      <td>0</td>\n",
       "      <td>0</td>\n",
       "      <td>0</td>\n",
       "      <td>0</td>\n",
       "      <td>0</td>\n",
       "      <td>0</td>\n",
       "      <td>0</td>\n",
       "      <td>1</td>\n",
       "    </tr>\n",
       "    <tr>\n",
       "      <th>18245</th>\n",
       "      <td>0</td>\n",
       "      <td>1</td>\n",
       "      <td>1</td>\n",
       "      <td>240</td>\n",
       "      <td>2</td>\n",
       "      <td>21</td>\n",
       "      <td>4</td>\n",
       "      <td>11</td>\n",
       "      <td>45</td>\n",
       "      <td>0</td>\n",
       "      <td>...</td>\n",
       "      <td>0</td>\n",
       "      <td>1</td>\n",
       "      <td>0</td>\n",
       "      <td>0</td>\n",
       "      <td>0</td>\n",
       "      <td>0</td>\n",
       "      <td>0</td>\n",
       "      <td>0</td>\n",
       "      <td>0</td>\n",
       "      <td>1</td>\n",
       "    </tr>\n",
       "  </tbody>\n",
       "</table>\n",
       "<p>5 rows × 42 columns</p>\n",
       "</div>"
      ],
      "text/plain": [
       "       Name  OutcomeType  AnimalType  AgeUponIntake  Month  Day  DayOfWeek  \\\n",
       "18241     1            1           0           1095      6   30          1   \n",
       "18242     1            1           0            240      5   29          4   \n",
       "18243     1            1           1           2555      1    3          5   \n",
       "18244     1            1           0            365      1   19          6   \n",
       "18245     0            1           1            240      2   21          4   \n",
       "\n",
       "       Hour  Minute  Intact  ...    Injured  Normal  Nursing  Other  Pregnant  \\\n",
       "18241    22       0       1  ...          1       0        0      0         0   \n",
       "18242    13      34       1  ...          0       1        0      0         0   \n",
       "18243    18       8       0  ...          0       1        0      0         0   \n",
       "18244     9      26       1  ...          0       1        0      0         0   \n",
       "18245    11      45       0  ...          0       1        0      0         0   \n",
       "\n",
       "       Sick  Euthanasia Request  Owner Surrender  Public Assist  Stray  \n",
       "18241     0                   0                0              1      0  \n",
       "18242     0                   0                0              1      0  \n",
       "18243     0                   0                0              0      1  \n",
       "18244     0                   0                0              0      1  \n",
       "18245     0                   0                0              0      1  \n",
       "\n",
       "[5 rows x 42 columns]"
      ]
     },
     "execution_count": 73,
     "metadata": {},
     "output_type": "execute_result"
    }
   ],
   "source": [
    "drop_features = [\"Intake_Datetime\", \"AnimalID\", \"Color\", \"Breed\",\n",
    "                 \"IntakeCondition\", \"SexUponIntake\", \"IntakeType\"]\n",
    "train_class = pd.concat([train, df_sex, df_breed_mix, df_pattern, df_cond, df_type], axis=1)\n",
    "train_class.drop(drop_features, axis=1, inplace=True)\n",
    "train_class.tail()"
   ]
  },
  {
   "cell_type": "code",
   "execution_count": 74,
   "metadata": {},
   "outputs": [],
   "source": [
    "df_train = train_class.drop(['OutcomeType'], axis=1)\n",
    "df_target = train_class['OutcomeType']"
   ]
  },
  {
   "cell_type": "markdown",
   "metadata": {},
   "source": [
    "#### 2) Cross Validation\n",
    "##### Test and Train Split"
   ]
  },
  {
   "cell_type": "code",
   "execution_count": 75,
   "metadata": {},
   "outputs": [],
   "source": [
    "X_train, X_test, y_train, y_test = train_test_split(df_train.values, df_target.values, \n",
    "                                                    test_size=0.3, random_state=0, stratify=df_target.values)\n",
    "\n",
    "gbm = lightgbm.LGBMClassifier(n_estimators = 200, max_depth=5, learning_rate = 0.05, random_state=0)\n",
    "gbm = gbm.fit(X_train, y_train)"
   ]
  },
  {
   "cell_type": "markdown",
   "metadata": {},
   "source": [
    "- Confusion Matrix(Train)"
   ]
  },
  {
   "cell_type": "code",
   "execution_count": 76,
   "metadata": {},
   "outputs": [
    {
     "data": {
      "text/plain": [
       "array([[  360,   482],\n",
       "       [   44, 11886]])"
      ]
     },
     "execution_count": 76,
     "metadata": {},
     "output_type": "execute_result"
    }
   ],
   "source": [
    "confusion_matrix(y_train, gbm.predict(X_train))"
   ]
  },
  {
   "cell_type": "markdown",
   "metadata": {},
   "source": [
    "- Classification Report(Train)"
   ]
  },
  {
   "cell_type": "code",
   "execution_count": 77,
   "metadata": {},
   "outputs": [
    {
     "name": "stdout",
     "output_type": "stream",
     "text": [
      "              precision    recall  f1-score   support\n",
      "\n",
      "      Danger       0.89      0.43      0.58       842\n",
      "        Safe       0.96      1.00      0.98     11930\n",
      "\n",
      "   micro avg       0.96      0.96      0.96     12772\n",
      "   macro avg       0.93      0.71      0.78     12772\n",
      "weighted avg       0.96      0.96      0.95     12772\n",
      "\n"
     ]
    }
   ],
   "source": [
    "print(classification_report(y_train, gbm.predict(X_train), target_names=le_target.classes_))"
   ]
  },
  {
   "cell_type": "markdown",
   "metadata": {},
   "source": [
    "- Recall(Train)"
   ]
  },
  {
   "cell_type": "code",
   "execution_count": 78,
   "metadata": {},
   "outputs": [
    {
     "data": {
      "text/plain": [
       "0.7119326315621808"
      ]
     },
     "execution_count": 78,
     "metadata": {},
     "output_type": "execute_result"
    }
   ],
   "source": [
    "recall_score(y_train, gbm.predict(X_train), average='macro')"
   ]
  },
  {
   "cell_type": "markdown",
   "metadata": {},
   "source": [
    "- Confusion Matrix(Test)"
   ]
  },
  {
   "cell_type": "code",
   "execution_count": 79,
   "metadata": {},
   "outputs": [
    {
     "data": {
      "text/plain": [
       "array([[ 145,  216],\n",
       "       [  43, 5070]])"
      ]
     },
     "execution_count": 79,
     "metadata": {},
     "output_type": "execute_result"
    }
   ],
   "source": [
    "confusion_matrix(y_test, gbm.predict(X_test))"
   ]
  },
  {
   "cell_type": "markdown",
   "metadata": {},
   "source": [
    "- Classification Report(Test)"
   ]
  },
  {
   "cell_type": "code",
   "execution_count": 80,
   "metadata": {},
   "outputs": [
    {
     "name": "stdout",
     "output_type": "stream",
     "text": [
      "              precision    recall  f1-score   support\n",
      "\n",
      "      Danger       0.77      0.40      0.53       361\n",
      "        Safe       0.96      0.99      0.98      5113\n",
      "\n",
      "   micro avg       0.95      0.95      0.95      5474\n",
      "   macro avg       0.87      0.70      0.75      5474\n",
      "weighted avg       0.95      0.95      0.95      5474\n",
      "\n"
     ]
    }
   ],
   "source": [
    "print(classification_report(y_test, gbm.predict(X_test), target_names=le_target.classes_))"
   ]
  },
  {
   "cell_type": "markdown",
   "metadata": {},
   "source": [
    "- Recall(Test)"
   ]
  },
  {
   "cell_type": "code",
   "execution_count": 81,
   "metadata": {},
   "outputs": [
    {
     "data": {
      "text/plain": [
       "0.6966260572014304"
      ]
     },
     "execution_count": 81,
     "metadata": {},
     "output_type": "execute_result"
    }
   ],
   "source": [
    "recall_score(y_test, gbm.predict(X_test), average='macro')"
   ]
  },
  {
   "cell_type": "markdown",
   "metadata": {},
   "source": [
    "##### K-Fold"
   ]
  },
  {
   "cell_type": "code",
   "execution_count": 82,
   "metadata": {},
   "outputs": [
    {
     "data": {
      "text/plain": [
       "0.682395481334161"
      ]
     },
     "execution_count": 82,
     "metadata": {},
     "output_type": "execute_result"
    }
   ],
   "source": [
    "model = lightgbm.LGBMClassifier(n_estimators = 200, max_depth=5, learning_rate = 0.05, random_state=0)\n",
    "k_fold = StratifiedKFold(n_splits=5, shuffle=True, random_state=0)\n",
    "score = cross_val_score(model, df_train.values, df_target.apply(lambda x:1 if x==0 else 0).values, \n",
    "                        cv=k_fold, n_jobs=3, scoring=make_scorer(recall_score, average='macro'))\n",
    "np.mean(score)"
   ]
  },
  {
   "cell_type": "markdown",
   "metadata": {},
   "source": [
    "#### 3) Model"
   ]
  },
  {
   "cell_type": "code",
   "execution_count": 83,
   "metadata": {},
   "outputs": [],
   "source": [
    "gbm = lightgbm.LGBMClassifier(n_estimators = 200, max_depth=5, learning_rate = 0.05, random_state=0)\n",
    "gbm = gbm.fit(df_train.values, df_target.values)"
   ]
  },
  {
   "cell_type": "markdown",
   "metadata": {},
   "source": [
    "#### 4) Performance Test"
   ]
  },
  {
   "cell_type": "code",
   "execution_count": 84,
   "metadata": {},
   "outputs": [],
   "source": [
    "# 테스트 데이터 프레임 재구성\n",
    "drop_features = [\"Intake_Datetime\", \"AnimalID\", \"Color\", \"Breed\",\n",
    "                 \"IntakeCondition\", \"SexUponIntake\", \"IntakeType\"]\n",
    "test_class = pd.concat([test, test_sex, test_breed_mix, test_pattern, test_cond, test_type], axis=1)\n",
    "test_class.drop(drop_features, axis=1, inplace=True)"
   ]
  },
  {
   "cell_type": "code",
   "execution_count": 85,
   "metadata": {},
   "outputs": [],
   "source": [
    "# 독립변수 종속변수 분리\n",
    "X_test = test_class.drop(['OutcomeType'], axis=1)\n",
    "y_test = test_class['OutcomeType']"
   ]
  },
  {
   "cell_type": "markdown",
   "metadata": {},
   "source": [
    "- Confusion Matrix"
   ]
  },
  {
   "cell_type": "code",
   "execution_count": 86,
   "metadata": {},
   "outputs": [
    {
     "data": {
      "text/plain": [
       "array([[ 193,  322],\n",
       "       [  54, 7251]])"
      ]
     },
     "execution_count": 86,
     "metadata": {},
     "output_type": "execute_result"
    }
   ],
   "source": [
    "confusion_matrix(y_test, gbm.predict(X_test))"
   ]
  },
  {
   "cell_type": "markdown",
   "metadata": {},
   "source": [
    "- Classification Report"
   ]
  },
  {
   "cell_type": "code",
   "execution_count": 87,
   "metadata": {},
   "outputs": [
    {
     "name": "stdout",
     "output_type": "stream",
     "text": [
      "              precision    recall  f1-score   support\n",
      "\n",
      "      Danger       0.78      0.37      0.51       515\n",
      "        Safe       0.96      0.99      0.97      7305\n",
      "\n",
      "   micro avg       0.95      0.95      0.95      7820\n",
      "   macro avg       0.87      0.68      0.74      7820\n",
      "weighted avg       0.95      0.95      0.94      7820\n",
      "\n"
     ]
    }
   ],
   "source": [
    "print(classification_report(y_test, gbm.predict(X_test), target_names=le_target.classes_))"
   ]
  },
  {
   "cell_type": "markdown",
   "metadata": {},
   "source": [
    "- Recall(Test)"
   ]
  },
  {
   "cell_type": "code",
   "execution_count": 88,
   "metadata": {},
   "outputs": [
    {
     "data": {
      "text/plain": [
       "0.6836825422140707"
      ]
     },
     "execution_count": 88,
     "metadata": {},
     "output_type": "execute_result"
    }
   ],
   "source": [
    "recall_score(y_test, gbm.predict(X_test), average='macro')"
   ]
  },
  {
   "cell_type": "markdown",
   "metadata": {},
   "source": [
    "## 2.5 솔루션 5\n",
    "- 동물센터에서 중요한 의사결정과정 중 하나가 추후에 실제로 죽거나, 안락사(Danger)되는 동물들을 최대한 많이 선별하는 것\n",
    "- 이를 위해 Danger Recall 비율을 높여야 한다고 판단\n",
    "- Imbalancing 기법을 사용하여 Danger Recall 향상\n",
    "- **최종 모델**은 **Random UnderSampler**를 사용하여 **Imbalancing 처리**한 모델을 사용"
   ]
  },
  {
   "cell_type": "markdown",
   "metadata": {},
   "source": [
    "#### 1) Cross Validation\n",
    "##### Train and Test Split"
   ]
  },
  {
   "cell_type": "code",
   "execution_count": 89,
   "metadata": {},
   "outputs": [],
   "source": [
    "X_train, X_test, y_train, y_test = train_test_split(df_train.values, df_target.values, \n",
    "                                                    test_size=0.3, random_state=0, stratify=df_target.values)\n",
    "\n",
    "gbm = lightgbm.LGBMClassifier(n_estimators = 200, max_depth=5, learning_rate = 0.05, random_state=0)"
   ]
  },
  {
   "cell_type": "markdown",
   "metadata": {},
   "source": [
    "##### Instance Hardness Threshold"
   ]
  },
  {
   "cell_type": "code",
   "execution_count": 90,
   "metadata": {},
   "outputs": [],
   "source": [
    "X_samp, y_samp = InstanceHardnessThreshold(random_state=4).fit_sample(X_train, y_train)\n",
    "IHT = gbm.fit(X_samp, y_samp)"
   ]
  },
  {
   "cell_type": "code",
   "execution_count": 91,
   "metadata": {},
   "outputs": [],
   "source": [
    "pred = IHT.predict(X_test)"
   ]
  },
  {
   "cell_type": "code",
   "execution_count": 92,
   "metadata": {},
   "outputs": [
    {
     "data": {
      "text/plain": [
       "array([[ 261,  100],\n",
       "       [1219, 3894]])"
      ]
     },
     "execution_count": 92,
     "metadata": {},
     "output_type": "execute_result"
    }
   ],
   "source": [
    "confusion_matrix(y_test, pred)"
   ]
  },
  {
   "cell_type": "code",
   "execution_count": 93,
   "metadata": {
    "scrolled": true
   },
   "outputs": [
    {
     "name": "stdout",
     "output_type": "stream",
     "text": [
      "              precision    recall  f1-score   support\n",
      "\n",
      "           0       0.18      0.72      0.28       361\n",
      "           1       0.97      0.76      0.86      5113\n",
      "\n",
      "   micro avg       0.76      0.76      0.76      5474\n",
      "   macro avg       0.58      0.74      0.57      5474\n",
      "weighted avg       0.92      0.76      0.82      5474\n",
      "\n"
     ]
    }
   ],
   "source": [
    "print(classification_report(y_test, pred))"
   ]
  },
  {
   "cell_type": "markdown",
   "metadata": {},
   "source": [
    "- Recall"
   ]
  },
  {
   "cell_type": "code",
   "execution_count": 94,
   "metadata": {},
   "outputs": [
    {
     "data": {
      "text/plain": [
       "0.742289899246557"
      ]
     },
     "execution_count": 94,
     "metadata": {},
     "output_type": "execute_result"
    }
   ],
   "source": [
    "recall_score(y_test, gbm.predict(X_test), average='macro')"
   ]
  },
  {
   "cell_type": "code",
   "execution_count": null,
   "metadata": {},
   "outputs": [],
   "source": [
    "scores = np.zeros(5)\n",
    "cv = StratifiedKFold(n_splits=5, shuffle=True, random_state=0)\n",
    "for i, (idx_train, idx_test) in enumerate(cv.split(df_train, df_target)):\n",
    "    X_train, y_train = df_train.iloc[idx_train].values, df_target.iloc[idx_train].values\n",
    "    X_test, y_test = df_train.iloc[idx_test].values, df_target.iloc[idx_test].values\n",
    "\n",
    "    gbm = lightgbm.LGBMClassifier(n_estimators = 200, max_depth=5, learning_rate = 0.05, random_state=0)\n",
    "    X_samp, y_samp = InstanceHardnessThreshold(random_state=4).fit_sample(X_train, y_train)\n",
    "    gbm = gbm.fit(X_samp, y_samp)\n",
    "\n",
    "    scores[i] = recall_score(y_test, gbm.predict(X_test), average='macro')\n",
    "np.mean(scores)"
   ]
  },
  {
   "cell_type": "markdown",
   "metadata": {},
   "source": [
    "##### Edited Nearest Neighbours"
   ]
  },
  {
   "cell_type": "code",
   "execution_count": 1,
   "metadata": {},
   "outputs": [
    {
     "ename": "NameError",
     "evalue": "name 'EditedNearestNeighbours' is not defined",
     "output_type": "error",
     "traceback": [
      "\u001b[0;31m---------------------------------------------------------------------------\u001b[0m",
      "\u001b[0;31mNameError\u001b[0m                                 Traceback (most recent call last)",
      "\u001b[0;32m<ipython-input-1-9951dd536b16>\u001b[0m in \u001b[0;36m<module>\u001b[0;34m\u001b[0m\n\u001b[0;32m----> 1\u001b[0;31m \u001b[0mX_samp\u001b[0m\u001b[0;34m,\u001b[0m \u001b[0my_samp\u001b[0m \u001b[0;34m=\u001b[0m \u001b[0mEditedNearestNeighbours\u001b[0m\u001b[0;34m(\u001b[0m\u001b[0mrandom_state\u001b[0m\u001b[0;34m=\u001b[0m\u001b[0;36m4\u001b[0m\u001b[0;34m)\u001b[0m\u001b[0;34m.\u001b[0m\u001b[0mfit_sample\u001b[0m\u001b[0;34m(\u001b[0m\u001b[0mX_train\u001b[0m\u001b[0;34m,\u001b[0m \u001b[0my_train\u001b[0m\u001b[0;34m)\u001b[0m\u001b[0;34m\u001b[0m\u001b[0m\n\u001b[0m\u001b[1;32m      2\u001b[0m \u001b[0menn\u001b[0m \u001b[0;34m=\u001b[0m \u001b[0mgbm\u001b[0m\u001b[0;34m.\u001b[0m\u001b[0mfit\u001b[0m\u001b[0;34m(\u001b[0m\u001b[0mX_samp\u001b[0m\u001b[0;34m,\u001b[0m \u001b[0my_samp\u001b[0m\u001b[0;34m)\u001b[0m\u001b[0;34m\u001b[0m\u001b[0m\n",
      "\u001b[0;31mNameError\u001b[0m: name 'EditedNearestNeighbours' is not defined"
     ]
    }
   ],
   "source": [
    "X_samp, y_samp = EditedNearestNeighbours(random_state=4).fit_sample(X_train, y_train)\n",
    "enn = gbm.fit(X_samp, y_samp)"
   ]
  },
  {
   "cell_type": "code",
   "execution_count": 2,
   "metadata": {},
   "outputs": [
    {
     "ename": "NameError",
     "evalue": "name 'enn' is not defined",
     "output_type": "error",
     "traceback": [
      "\u001b[0;31m---------------------------------------------------------------------------\u001b[0m",
      "\u001b[0;31mNameError\u001b[0m                                 Traceback (most recent call last)",
      "\u001b[0;32m<ipython-input-2-17c4b3402942>\u001b[0m in \u001b[0;36m<module>\u001b[0;34m\u001b[0m\n\u001b[0;32m----> 1\u001b[0;31m \u001b[0mpred\u001b[0m \u001b[0;34m=\u001b[0m \u001b[0menn\u001b[0m\u001b[0;34m.\u001b[0m\u001b[0mpredict\u001b[0m\u001b[0;34m(\u001b[0m\u001b[0mX_test\u001b[0m\u001b[0;34m)\u001b[0m\u001b[0;34m\u001b[0m\u001b[0m\n\u001b[0m",
      "\u001b[0;31mNameError\u001b[0m: name 'enn' is not defined"
     ]
    }
   ],
   "source": [
    "pred = enn.predict(X_test)"
   ]
  },
  {
   "cell_type": "code",
   "execution_count": null,
   "metadata": {},
   "outputs": [],
   "source": [
    "confusion_matrix(y_test, pred)"
   ]
  },
  {
   "cell_type": "code",
   "execution_count": null,
   "metadata": {},
   "outputs": [],
   "source": [
    "print(classification_report(y_test, pred))"
   ]
  },
  {
   "cell_type": "markdown",
   "metadata": {},
   "source": [
    "- Recall"
   ]
  },
  {
   "cell_type": "code",
   "execution_count": null,
   "metadata": {},
   "outputs": [],
   "source": [
    "recall_score(y_test, gbm.predict(X_test), average='macro')"
   ]
  },
  {
   "cell_type": "code",
   "execution_count": null,
   "metadata": {},
   "outputs": [],
   "source": [
    "scores = np.zeros(5)\n",
    "cv = StratifiedKFold(n_splits=5, shuffle=True, random_state=0)\n",
    "for i, (idx_train, idx_test) in enumerate(cv.split(df_train, df_target)):\n",
    "    X_train, y_train = df_train.iloc[idx_train].values, df_target.iloc[idx_train].values\n",
    "    X_test, y_test = df_train.iloc[idx_test].values, df_target.iloc[idx_test].values\n",
    "\n",
    "    gbm = lightgbm.LGBMClassifier(n_estimators = 200, max_depth=5, learning_rate = 0.05, random_state=0)\n",
    "    X_samp, y_samp = EditedNearestNeighbours(random_state=4).fit_sample(X_train, y_train)\n",
    "    gbm = gbm.fit(X_samp, y_samp)\n",
    "\n",
    "    scores[i] = recall_score(y_test, gbm.predict(X_test), average='macro')\n",
    "np.mean(scores)"
   ]
  },
  {
   "cell_type": "markdown",
   "metadata": {},
   "source": [
    "##### Random Undersampler"
   ]
  },
  {
   "cell_type": "code",
   "execution_count": null,
   "metadata": {},
   "outputs": [],
   "source": [
    "X_samp, y_samp = RandomUnderSampler(random_state=4).fit_sample(X_train, y_train)\n",
    "random_undersampler = gbm.fit(X_samp, y_samp)"
   ]
  },
  {
   "cell_type": "code",
   "execution_count": null,
   "metadata": {},
   "outputs": [],
   "source": [
    "pred = random_undersampler.predict(X_test)"
   ]
  },
  {
   "cell_type": "code",
   "execution_count": null,
   "metadata": {},
   "outputs": [],
   "source": [
    "confusion_matrix(y_test, pred)"
   ]
  },
  {
   "cell_type": "code",
   "execution_count": null,
   "metadata": {},
   "outputs": [],
   "source": [
    "print(classification_report(y_test, pred))"
   ]
  },
  {
   "cell_type": "markdown",
   "metadata": {},
   "source": [
    "- Recall"
   ]
  },
  {
   "cell_type": "code",
   "execution_count": null,
   "metadata": {},
   "outputs": [],
   "source": [
    "recall_score(y_test, gbm.predict(X_test), average='macro')"
   ]
  },
  {
   "cell_type": "code",
   "execution_count": null,
   "metadata": {},
   "outputs": [],
   "source": [
    "scores = np.zeros(5)\n",
    "cv = StratifiedKFold(n_splits=5, shuffle=True, random_state=0)\n",
    "for i, (idx_train, idx_test) in enumerate(cv.split(df_train, df_target)):\n",
    "    X_train, y_train = df_train.iloc[idx_train].values, df_target.iloc[idx_train].values\n",
    "    X_test, y_test = df_train.iloc[idx_test].values, df_target.iloc[idx_test].values\n",
    "\n",
    "    gbm = lightgbm.LGBMClassifier(n_estimators = 200, max_depth=5, learning_rate = 0.05, random_state=0)\n",
    "    X_samp, y_samp = RandomUnderSampler(random_state=4).fit_sample(X_train, y_train)\n",
    "    gbm = gbm.fit(X_samp, y_samp)\n",
    "\n",
    "    scores[i] = recall_score(y_test, gbm.predict(X_test), average='macro')\n",
    "np.mean(scores)"
   ]
  },
  {
   "cell_type": "markdown",
   "metadata": {},
   "source": [
    "##### Random Oversampler"
   ]
  },
  {
   "cell_type": "code",
   "execution_count": null,
   "metadata": {},
   "outputs": [],
   "source": [
    "X_samp, y_samp = RandomOverSampler(random_state=4).fit_sample(X_train, y_train)\n",
    "random_oversampler = gbm.fit(X_samp, y_samp)"
   ]
  },
  {
   "cell_type": "code",
   "execution_count": null,
   "metadata": {},
   "outputs": [],
   "source": [
    "pred = random_oversampler.predict(X_test)"
   ]
  },
  {
   "cell_type": "code",
   "execution_count": null,
   "metadata": {},
   "outputs": [],
   "source": [
    "confusion_matrix(y_test, pred)"
   ]
  },
  {
   "cell_type": "code",
   "execution_count": null,
   "metadata": {},
   "outputs": [],
   "source": [
    "print(classification_report(y_test, pred))"
   ]
  },
  {
   "cell_type": "markdown",
   "metadata": {},
   "source": [
    "- Recall"
   ]
  },
  {
   "cell_type": "code",
   "execution_count": null,
   "metadata": {},
   "outputs": [],
   "source": [
    "recall_score(y_test, gbm.predict(X_test), average='macro')"
   ]
  },
  {
   "cell_type": "code",
   "execution_count": null,
   "metadata": {},
   "outputs": [],
   "source": [
    "scores = np.zeros(5)\n",
    "cv = StratifiedKFold(n_splits=5, shuffle=True, random_state=0)\n",
    "for i, (idx_train, idx_test) in enumerate(cv.split(df_train, df_target)):\n",
    "    X_train, y_train = df_train.iloc[idx_train].values, df_target.iloc[idx_train].values\n",
    "    X_test, y_test = df_train.iloc[idx_test].values, df_target.iloc[idx_test].values\n",
    "\n",
    "    gbm = lightgbm.LGBMClassifier(n_estimators = 200, max_depth=5, learning_rate = 0.05, random_state=0)\n",
    "    X_samp, y_samp = RandomOverSampler(random_state=4).fit_sample(X_train, y_train)\n",
    "    gbm = gbm.fit(X_samp, y_samp)\n",
    "\n",
    "    scores[i] = recall_score(y_test, gbm.predict(X_test), average='macro')\n",
    "np.mean(scores)"
   ]
  },
  {
   "cell_type": "markdown",
   "metadata": {},
   "source": [
    "#### 2) Performance Test"
   ]
  },
  {
   "cell_type": "code",
   "execution_count": null,
   "metadata": {},
   "outputs": [],
   "source": [
    "# 테스트 데이터 프레임 재구성\n",
    "drop_features = [\"Intake_Datetime\", \"AnimalID\", \"Color\", \"Breed\",\n",
    "                 \"IntakeCondition\", \"SexUponIntake\", \"IntakeType\"]\n",
    "test_class = pd.concat([test, test_sex, test_breed_mix, test_pattern, test_cond, test_type], axis=1)\n",
    "test_class.drop(drop_features, axis=1, inplace=True)"
   ]
  },
  {
   "cell_type": "code",
   "execution_count": null,
   "metadata": {},
   "outputs": [],
   "source": [
    "# 독립변수 종속변수 분리\n",
    "X_test = test_class.drop(['OutcomeType'], axis=1)\n",
    "y_test = test_class['OutcomeType']"
   ]
  },
  {
   "cell_type": "markdown",
   "metadata": {},
   "source": [
    "##### Instance Hardness Threshold"
   ]
  },
  {
   "cell_type": "code",
   "execution_count": null,
   "metadata": {},
   "outputs": [],
   "source": [
    "X_samp, y_samp = InstanceHardnessThreshold(random_state=4).fit_sample(df_train, df_target)\n",
    "IHT = gbm.fit(X_samp, y_samp)"
   ]
  },
  {
   "cell_type": "markdown",
   "metadata": {},
   "source": [
    "- Confusion Matrix"
   ]
  },
  {
   "cell_type": "code",
   "execution_count": null,
   "metadata": {},
   "outputs": [],
   "source": [
    "confusion_matrix(y_test, IHT.predict(X_test))"
   ]
  },
  {
   "cell_type": "markdown",
   "metadata": {},
   "source": [
    "- Classification Report"
   ]
  },
  {
   "cell_type": "code",
   "execution_count": null,
   "metadata": {},
   "outputs": [],
   "source": [
    "print(classification_report(y_test, IHT.predict(X_test), target_names=le_target.classes_))"
   ]
  },
  {
   "cell_type": "markdown",
   "metadata": {},
   "source": [
    "- Recall"
   ]
  },
  {
   "cell_type": "code",
   "execution_count": null,
   "metadata": {
    "scrolled": true
   },
   "outputs": [],
   "source": [
    "recall_score(y_test, gbm.predict(X_test), average='macro')"
   ]
  },
  {
   "cell_type": "markdown",
   "metadata": {},
   "source": [
    "##### Edited Nearest Neighbours"
   ]
  },
  {
   "cell_type": "code",
   "execution_count": null,
   "metadata": {},
   "outputs": [],
   "source": [
    "X_samp, y_samp = EditedNearestNeighbours(random_state=4).fit_sample(df_train, df_target)\n",
    "enn = gbm.fit(X_samp, y_samp)"
   ]
  },
  {
   "cell_type": "markdown",
   "metadata": {},
   "source": [
    "- Confusion Matrix"
   ]
  },
  {
   "cell_type": "code",
   "execution_count": null,
   "metadata": {},
   "outputs": [],
   "source": [
    "confusion_matrix(y_test, enn.predict(X_test))"
   ]
  },
  {
   "cell_type": "markdown",
   "metadata": {},
   "source": [
    "- Classification Report"
   ]
  },
  {
   "cell_type": "code",
   "execution_count": null,
   "metadata": {},
   "outputs": [],
   "source": [
    "print(classification_report(y_test, enn.predict(X_test), target_names=le_target.classes_))"
   ]
  },
  {
   "cell_type": "markdown",
   "metadata": {},
   "source": [
    "- Recall"
   ]
  },
  {
   "cell_type": "code",
   "execution_count": null,
   "metadata": {
    "scrolled": true
   },
   "outputs": [],
   "source": [
    "recall_score(y_test, gbm.predict(X_test), average='macro')"
   ]
  },
  {
   "cell_type": "markdown",
   "metadata": {},
   "source": [
    "##### Random Undersampler"
   ]
  },
  {
   "cell_type": "code",
   "execution_count": null,
   "metadata": {},
   "outputs": [],
   "source": [
    "X_samp, y_samp = RandomUnderSampler(random_state=4).fit_sample(df_train, df_target)\n",
    "random_undersampler = gbm.fit(X_samp, y_samp)"
   ]
  },
  {
   "cell_type": "markdown",
   "metadata": {},
   "source": [
    "- Confusion Matrix"
   ]
  },
  {
   "cell_type": "code",
   "execution_count": null,
   "metadata": {},
   "outputs": [],
   "source": [
    "confusion_matrix(y_test, random_undersampler.predict(X_test))"
   ]
  },
  {
   "cell_type": "markdown",
   "metadata": {},
   "source": [
    "- Classification Report"
   ]
  },
  {
   "cell_type": "code",
   "execution_count": null,
   "metadata": {},
   "outputs": [],
   "source": [
    "print(classification_report(y_test, random_undersampler.predict(X_test), target_names=le_target.classes_))"
   ]
  },
  {
   "cell_type": "markdown",
   "metadata": {},
   "source": [
    "- Recall"
   ]
  },
  {
   "cell_type": "code",
   "execution_count": null,
   "metadata": {
    "scrolled": true
   },
   "outputs": [],
   "source": [
    "recall_score(y_test, gbm.predict(X_test), average='macro')"
   ]
  },
  {
   "cell_type": "markdown",
   "metadata": {},
   "source": [
    "##### Random Oversampler"
   ]
  },
  {
   "cell_type": "code",
   "execution_count": null,
   "metadata": {},
   "outputs": [],
   "source": [
    "X_samp, y_samp = RandomOverSampler(random_state=4).fit_sample(df_train, df_target)\n",
    "random_oversampler = gbm.fit(X_samp, y_samp)"
   ]
  },
  {
   "cell_type": "markdown",
   "metadata": {},
   "source": [
    "- Confusion Matrix"
   ]
  },
  {
   "cell_type": "code",
   "execution_count": null,
   "metadata": {},
   "outputs": [],
   "source": [
    "confusion_matrix(y_test, random_oversampler.predict(X_test))"
   ]
  },
  {
   "cell_type": "markdown",
   "metadata": {},
   "source": [
    "- Classification Report"
   ]
  },
  {
   "cell_type": "code",
   "execution_count": null,
   "metadata": {},
   "outputs": [],
   "source": [
    "print(classification_report(y_test, random_oversampler.predict(X_test), target_names=le_target.classes_))"
   ]
  },
  {
   "cell_type": "markdown",
   "metadata": {},
   "source": [
    "- Recall"
   ]
  },
  {
   "cell_type": "code",
   "execution_count": null,
   "metadata": {
    "scrolled": false
   },
   "outputs": [],
   "source": [
    "recall_score(y_test, gbm.predict(X_test), average='macro')"
   ]
  },
  {
   "cell_type": "markdown",
   "metadata": {},
   "source": [
    "***"
   ]
  },
  {
   "cell_type": "markdown",
   "metadata": {},
   "source": [
    "# 3. 결론"
   ]
  },
  {
   "cell_type": "markdown",
   "metadata": {},
   "source": [
    "#### 유기동물 보호, 관리를 위해 실질적인 도움을 줄 수 있는 예측모델 구현\n",
    "1) 추후에 실제 사망하거나 안락사 당하게 될 동물들을 최대한 예측\n",
    "    - 위험군에 속한 동물들(515마리)의 약 74%(333마리) 예측\n",
    "2) 비용(시간, 인력 등)을 고려하여 추후에 실제 안전군에 속하는 동물들에 대한 오분류(위험군) 최소화\n",
    "    - 안전군에 속한 동물들(7305마리)의 약 19%(1363마리)를 위험군으로 오분류"
   ]
  }
 ],
 "metadata": {
  "kernelspec": {
   "display_name": "Python 3",
   "language": "python",
   "name": "python3"
  },
  "language_info": {
   "codemirror_mode": {
    "name": "ipython",
    "version": 3
   },
   "file_extension": ".py",
   "mimetype": "text/x-python",
   "name": "python",
   "nbconvert_exporter": "python",
   "pygments_lexer": "ipython3",
   "version": "3.7.0"
  }
 },
 "nbformat": 4,
 "nbformat_minor": 2
}
